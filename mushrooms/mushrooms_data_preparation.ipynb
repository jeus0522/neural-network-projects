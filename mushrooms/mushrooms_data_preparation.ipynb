{
 "cells": [
  {
   "cell_type": "code",
   "execution_count": 1,
   "metadata": {},
   "outputs": [
    {
     "ename": "ModuleNotFoundError",
     "evalue": "No module named 'pandas'",
     "output_type": "error",
     "traceback": [
      "\u001b[1;31m---------------------------------------------------------------------------\u001b[0m",
      "\u001b[1;31mModuleNotFoundError\u001b[0m                       Traceback (most recent call last)",
      "\u001b[1;32m<ipython-input-1-c0b9dee0b1a7>\u001b[0m in \u001b[0;36m<module>\u001b[1;34m()\u001b[0m\n\u001b[0;32m      2\u001b[0m \u001b[1;32mfrom\u001b[0m \u001b[0mpathlib\u001b[0m \u001b[1;32mimport\u001b[0m \u001b[0mPath\u001b[0m\u001b[1;33m\u001b[0m\u001b[0m\n\u001b[0;32m      3\u001b[0m \u001b[1;33m\u001b[0m\u001b[0m\n\u001b[1;32m----> 4\u001b[1;33m \u001b[1;32mimport\u001b[0m \u001b[0mpandas\u001b[0m \u001b[1;32mas\u001b[0m \u001b[0mpd\u001b[0m\u001b[1;33m\u001b[0m\u001b[0m\n\u001b[0m\u001b[0;32m      5\u001b[0m \u001b[1;32mimport\u001b[0m \u001b[0mnumpy\u001b[0m \u001b[1;32mas\u001b[0m \u001b[0mnp\u001b[0m\u001b[1;33m\u001b[0m\u001b[0m\n",
      "\u001b[1;31mModuleNotFoundError\u001b[0m: No module named 'pandas'"
     ]
    }
   ],
   "source": [
    "from collections import Counter\n",
    "from pathlib import Path\n",
    "\n",
    "import pandas as pd\n",
    "import numpy as np"
   ]
  },
  {
   "cell_type": "code",
   "execution_count": null,
   "metadata": {
    "scrolled": true
   },
   "outputs": [],
   "source": [
    "data = pd.read_csv(\"data/mushrooms.csv\")\n",
    "data"
   ]
  },
  {
   "cell_type": "code",
   "execution_count": null,
   "metadata": {},
   "outputs": [],
   "source": [
    "labels_data = list(data[\"class\"])\n",
    "print(labels_data)"
   ]
  },
  {
   "cell_type": "code",
   "execution_count": null,
   "metadata": {},
   "outputs": [],
   "source": [
    "labels = []\n",
    "for label in labels_data:\n",
    "    if label == \"p\":\n",
    "        labels.append([0])\n",
    "    elif label == \"e\":\n",
    "        labels.append([1])\n",
    "        \n",
    "labels = np.array(labels)\n",
    "labels.shape"
   ]
  },
  {
   "cell_type": "code",
   "execution_count": null,
   "metadata": {},
   "outputs": [],
   "source": [
    "data = data.drop(labels=[\"class\"], axis=1)\n",
    "data"
   ]
  },
  {
   "cell_type": "code",
   "execution_count": null,
   "metadata": {},
   "outputs": [],
   "source": [
    "data_test_matrix = []\n",
    "\n",
    "for column in data.columns:\n",
    "    column_data = []\n",
    "    column_values = list(data[column])\n",
    "    \n",
    "    counter = Counter(column_values)\n",
    "    n_column_labels = len(counter)\n",
    "    column_labels = list(counter.keys())\n",
    "    \n",
    "    for i in range(n_column_labels):\n",
    "        column_data.append(np.zeros(len(column_values)))\n",
    "        \n",
    "    for j in range(len(column_values)):\n",
    "        label_index = column_labels.index(column_values[j])\n",
    "        column_data[label_index][j] = 1\n",
    "        \n",
    "    for data_column in column_data:\n",
    "        data_test_matrix.append(data_column)\n",
    "        \n",
    "data_test_matrix = np.array(data_test_matrix).transpose()\n",
    "data_test_matrix"
   ]
  },
  {
   "cell_type": "code",
   "execution_count": null,
   "metadata": {},
   "outputs": [],
   "source": [
    "data_test_matrix.shape"
   ]
  },
  {
   "cell_type": "code",
   "execution_count": null,
   "metadata": {},
   "outputs": [],
   "source": [
    "s = np.arange(data_test_matrix.shape[0])\n",
    "np.random.shuffle(s)\n",
    "s"
   ]
  },
  {
   "cell_type": "code",
   "execution_count": null,
   "metadata": {},
   "outputs": [],
   "source": [
    "data_test_matrix_shuffled = data_test_matrix[s]\n",
    "data_test_matrix_shuffled"
   ]
  },
  {
   "cell_type": "code",
   "execution_count": null,
   "metadata": {},
   "outputs": [],
   "source": [
    "labels_shuffled = labels[s]\n",
    "labels_shuffled"
   ]
  },
  {
   "cell_type": "code",
   "execution_count": null,
   "metadata": {},
   "outputs": [],
   "source": [
    "data_split = 0.1\n",
    "split_instances = round(data_test_matrix_shuffled.shape[0] * data_split)\n",
    "training_instances = data_test_matrix_shuffled.shape[0] - split_instances * 2\n",
    "print(\"Training instances: {}\".format(training_instances))\n",
    "print(\"Split instances: {}\".format(split_instances))"
   ]
  },
  {
   "cell_type": "code",
   "execution_count": null,
   "metadata": {},
   "outputs": [],
   "source": [
    "training_data = data_test_matrix_shuffled[:training_instances, :]\n",
    "training_labels = labels_shuffled[:training_instances, :]\n",
    "training_data.shape"
   ]
  },
  {
   "cell_type": "code",
   "execution_count": null,
   "metadata": {},
   "outputs": [],
   "source": [
    "validation_data = data_test_matrix_shuffled[training_instances:training_instances + split_instances, :]\n",
    "validation_labels = labels_shuffled[training_instances:training_instances + split_instances, :]\n",
    "validation_data.shape"
   ]
  },
  {
   "cell_type": "code",
   "execution_count": null,
   "metadata": {},
   "outputs": [],
   "source": [
    "test_data = data_test_matrix_shuffled[training_instances + split_instances:training_instances + split_instances * 2, :]\n",
    "test_labels = labels_shuffled[training_instances + split_instances:training_instances + split_instances *2, :]\n",
    "test_data.shape"
   ]
  },
  {
   "cell_type": "code",
   "execution_count": null,
   "metadata": {},
   "outputs": [],
   "source": [
    "Path(\"training_data\").mkdir(exist_ok=True)\n",
    "np.save(open(\"training_data/mushrooms_training_data.npy\", 'wb'), training_data)\n",
    "np.save(open(\"training_data/mushrooms_training_labels.npy\", 'wb'), training_labels)\n",
    "np.save(open(\"training_data/mushrooms_validation_data.npy\", 'wb'), validation_data)\n",
    "np.save(open(\"training_data/mushrooms_validation_labels.npy\", 'wb'), validation_labels)\n",
    "np.save(open(\"training_data/mushrooms_test_data.npy\", 'wb'), test_data)\n",
    "np.save(open(\"training_data/mushrooms_test_labels.npy\", 'wb'), test_labels)"
   ]
  },
  {
   "cell_type": "code",
   "execution_count": null,
   "metadata": {},
   "outputs": [],
   "source": []
  }
 ],
 "metadata": {
  "kernelspec": {
   "display_name": "Python 3",
   "language": "python",
   "name": "python3"
  },
  "language_info": {
   "codemirror_mode": {
    "name": "ipython",
    "version": 3
   },
   "file_extension": ".py",
   "mimetype": "text/x-python",
   "name": "python",
   "nbconvert_exporter": "python",
   "pygments_lexer": "ipython3",
   "version": "3.6.5"
  }
 },
 "nbformat": 4,
 "nbformat_minor": 2
}
