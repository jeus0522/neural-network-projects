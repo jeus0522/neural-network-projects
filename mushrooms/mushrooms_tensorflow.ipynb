{
 "cells": [
  {
   "cell_type": "markdown",
   "metadata": {},
   "source": [
    "# Mushrooms classification - Tensorflow\n",
    "\n",
    "This notebook is used to build and train a binary classification neural network. We will train it for the [Kaggle - Mushroom Classification](https://www.kaggle.com/uciml/mushroom-classification) project. The data should be already processed and saved to .npy files. See the `mushrooms_data_preparation.ipynb` notebook from this repository to process the data."
   ]
  },
  {
   "cell_type": "markdown",
   "metadata": {},
   "source": [
    "### Import used modules\n",
    "\n",
    "The only external modules used for this notebook are [numpy](http://www.numpy.org/), [tensorflow](https://www.tensorflow.org/), and [matplotlib](https://matplotlib.org/)."
   ]
  },
  {
   "cell_type": "code",
   "execution_count": 1,
   "metadata": {},
   "outputs": [],
   "source": [
    "%matplotlib inline\n",
    "\n",
    "import sys\n",
    "from pathlib import Path\n",
    "\n",
    "import numpy as np\n",
    "import tensorflow as tf\n",
    "import matplotlib.pyplot as plt\n",
    "\n",
    "SCRIPT_DIR = Path.cwd()\n",
    "sys.path.append(str(SCRIPT_DIR.parent))\n",
    "\n",
    "from data_utils.data_iterator import DataIterator"
   ]
  },
  {
   "cell_type": "markdown",
   "metadata": {},
   "source": [
    "## Load the processed data\n",
    "\n",
    "First we need to load the processed data. This files are loaded as numpy arrays."
   ]
  },
  {
   "cell_type": "code",
   "execution_count": 2,
   "metadata": {},
   "outputs": [],
   "source": [
    "training_data = np.load(open(\"training_data/mushrooms_training_data.npy\", 'rb'))\n",
    "training_labels = np.load(open(\"training_data/mushrooms_training_labels.npy\", 'rb'))\n",
    "validation_data = np.load(open(\"training_data/mushrooms_validation_data.npy\", 'rb'))\n",
    "validation_labels = np.load(open(\"training_data/mushrooms_validation_labels.npy\", 'rb'))\n",
    "test_data = np.load(open(\"training_data/mushrooms_test_data.npy\", 'rb'))\n",
    "test_labels = np.load(open(\"training_data/mushrooms_test_labels.npy\", 'rb'))"
   ]
  },
  {
   "cell_type": "markdown",
   "metadata": {},
   "source": [
    "Print data type and arrays shapes."
   ]
  },
  {
   "cell_type": "code",
   "execution_count": 3,
   "metadata": {},
   "outputs": [
    {
     "name": "stdout",
     "output_type": "stream",
     "text": [
      "Loaded data type = <class 'numpy.ndarray'>\n",
      "Training data shape = (6500, 117)\n",
      "Training labels shape = (6500, 1)\n",
      "Validation data shape = (812, 117)\n",
      "Validation labels shape = (812, 1)\n",
      "Test data shape = (812, 117)\n",
      "Test labels shape = (812, 1)\n"
     ]
    }
   ],
   "source": [
    "print(\"Loaded data type = {}\".format(type(training_data)))\n",
    "print(\"Training data shape = {}\".format(training_data.shape))\n",
    "print(\"Training labels shape = {}\".format(training_labels.shape))\n",
    "print(\"Validation data shape = {}\".format(validation_data.shape))\n",
    "print(\"Validation labels shape = {}\".format(validation_labels.shape))\n",
    "print(\"Test data shape = {}\".format(test_data.shape))\n",
    "print(\"Test labels shape = {}\".format(test_labels.shape))\n"
   ]
  },
  {
   "cell_type": "markdown",
   "metadata": {},
   "source": [
    "## Create model\n",
    "\n",
    "Now we will define our neural network model. We will create a tensorflow graph that we can later train. This graph should have:\n",
    "- **Placeholders**: These are the model inputs. When training or evaluating the model, we will feed the graph through this operations with out data.\n",
    "- **Hidden layers**: In this model we will use a stack of [fully connected layers](https://www.tensorflow.org/api_docs/python/tf/layers/dense). The number, size and activation function of this layers can be changed from the model parameters variables.\n",
    "- **Output layer**: We will use a fully connected layer, with size 1 (one neuron) and a [sigmoid](https://en.wikipedia.org/wiki/Sigmoid_function) activation function (the standart output function for binary classification).\n",
    "- **Cost computation**: We need a tensorflow operation to calculate the cost of the current model prediction, with respect to the real labels. We will use the [logarithmic loss](https://datawookie.netlify.com/blog/2015/12/making-sense-of-logarithmic-loss/) for this task.\n",
    "- **Training operations**: This tensorflow operations will be used to perform one training step (gradients calculation and parameters update) so the model decrease the cost.\n",
    "- **Summaries**: We will add [Tensorboard](https://www.tensorflow.org/guide/summaries_and_tensorboard) summaries to vizualize the model graph (architecture), the training process, and some parameters of the model.\n",
    "- **Metrics**: We will add operations to check the performance of the model with respect to the true labels we are trying to predict."
   ]
  },
  {
   "cell_type": "markdown",
   "metadata": {},
   "source": [
    "### Model parameters\n",
    "\n",
    "This parameters are used to easily change the model architecture to try different configurations and find the best for our specific task."
   ]
  },
  {
   "cell_type": "code",
   "execution_count": 4,
   "metadata": {},
   "outputs": [],
   "source": [
    "# Parameters\n",
    "fully_connected_layers = 3\n",
    "fully_connected_size = 50\n",
    "fully_connected_activation = tf.nn.relu"
   ]
  },
  {
   "cell_type": "markdown",
   "metadata": {},
   "source": [
    "### Create placeholders\n",
    "\n",
    "The placeholders are created using the data shapes. The first dimension is `None`, because this is the batch size, and we want to change it for different runs."
   ]
  },
  {
   "cell_type": "code",
   "execution_count": 5,
   "metadata": {},
   "outputs": [
    {
     "name": "stdout",
     "output_type": "stream",
     "text": [
      "Tensor(\"inputs:0\", shape=(?, 117), dtype=float32)\n",
      "Tensor(\"labels:0\", shape=(?, 1), dtype=float32)\n",
      "Tensor(\"learning_rate:0\", shape=(), dtype=float32)\n",
      "<tf.Variable 'global_step:0' shape=() dtype=int32_ref>\n"
     ]
    }
   ],
   "source": [
    "# Data inputs\n",
    "x = tf.placeholder(dtype=tf.float32, shape=[None, training_data.shape[1]], name=\"inputs\")\n",
    "print(x)\n",
    "# Labels inputs\n",
    "y = tf.placeholder(dtype=tf.float32, shape=[None, 1], name=\"labels\")\n",
    "print(y)\n",
    "\n",
    "# Learning rate input\n",
    "learning_rate_input = tf.placeholder(dtype=tf.float32, shape=[], name=\"learning_rate\")\n",
    "print(learning_rate_input)\n",
    "\n",
    "# Used in training to keep track of variables updates\n",
    "global_step = tf.get_variable(name=\"global_step\",\n",
    "                              shape=[],\n",
    "                              dtype='int32',\n",
    "                              initializer=tf.constant_initializer(0),\n",
    "                              trainable=False)\n",
    "print(global_step)"
   ]
  },
  {
   "cell_type": "markdown",
   "metadata": {},
   "source": [
    "### Create hidden layers"
   ]
  },
  {
   "cell_type": "code",
   "execution_count": 6,
   "metadata": {},
   "outputs": [],
   "source": [
    "dense_layers = fully_connected_layers\n",
    "\n",
    "# Create first dense layer\n",
    "# Shape: (batch_size, fully_connected_size)\n",
    "dense = tf.layers.dense(x,\n",
    "                        units=fully_connected_size,\n",
    "                        activation=fully_connected_activation,\n",
    "                        name=\"dense_1\")\n",
    "\n",
    "dense_layers -= 1\n",
    "dense_layer_count = 2\n",
    "\n",
    "# Create next dense layers\n",
    "for i in range(dense_layers):\n",
    "    # Shape: (batch_size, fully_connected_size)\n",
    "    dense = tf.layers.dense(dense,\n",
    "                            units=fully_connected_size,\n",
    "                            activation=fully_connected_activation,\n",
    "                            name=\"dense_{}\".format(dense_layer_count))\n",
    "\n",
    "    dense_layer_count += 1"
   ]
  },
  {
   "cell_type": "markdown",
   "metadata": {},
   "source": [
    "### Create output layer"
   ]
  },
  {
   "cell_type": "code",
   "execution_count": 7,
   "metadata": {},
   "outputs": [],
   "source": [
    "# Shape: (batch_size, 1)\n",
    "output_layer = tf.layers.dense(dense, \n",
    "                               units=1, \n",
    "                               activation=tf.nn.sigmoid,\n",
    "                               name=\"output\")"
   ]
  },
  {
   "cell_type": "markdown",
   "metadata": {},
   "source": [
    "### Cost and Optimizer\n",
    "\n",
    "Now we create the tensorflow operations to calculate the cost of the model and perform one training step. We will use gradient descent to optimize our model."
   ]
  },
  {
   "cell_type": "code",
   "execution_count": 8,
   "metadata": {},
   "outputs": [],
   "source": [
    "with tf.variable_scope(\"cost_and_optimizer\"):\n",
    "    \n",
    "    # Loss value for the model output of each data point fed to the graph\n",
    "    # Shape: (batch_size, 1)\n",
    "    loss_op = tf.nn.sigmoid_cross_entropy_with_logits(labels=y,\n",
    "                                                      logits=output_layer,\n",
    "                                                      name=\"loss_op\")\n",
    "    \n",
    "    # Cost value for all the data points fed to the model\n",
    "    # Shape: ()\n",
    "    cost = tf.reduce_sum(loss_op, name=\"cost\")\n",
    "    \n",
    "    # Model optimizer\n",
    "    optimizer = tf.train.GradientDescentOptimizer(learning_rate=learning_rate_input,\n",
    "                                                 name=\"gradient_descent_optimizer\")\n",
    "    \n",
    "    # Trining operation. Perform one parameters update. Increment global_step by 1.\n",
    "    training_op = optimizer.minimize(cost, global_step=global_step)"
   ]
  },
  {
   "cell_type": "markdown",
   "metadata": {},
   "source": [
    "## Model metrics"
   ]
  },
  {
   "cell_type": "code",
   "execution_count": 9,
   "metadata": {},
   "outputs": [],
   "source": [
    "# The model ouputs a value between 0 and 1. We need to transform \n",
    "# it to the predicted label (0 or 1)\n",
    "predictions = tf.round(output_layer, name=\"predictions\")\n",
    "\n",
    "# Metrics\n",
    "with tf.name_scope(\"metrics\"):\n",
    "    # Get the model accuracy.\n",
    "    # Shape: (batch_size,)\n",
    "    accuracy = tf.metrics.accuracy(labels=y,\n",
    "                                   predictions=predictions,\n",
    "                                   name=\"accuracy\")"
   ]
  },
  {
   "cell_type": "markdown",
   "metadata": {},
   "source": [
    "### Tensorboard summaries"
   ]
  },
  {
   "cell_type": "code",
   "execution_count": 10,
   "metadata": {},
   "outputs": [],
   "source": [
    "tensorboard_logs_dir = Path(Path.cwd(), \"tensorboard_logs\")\n",
    "tensorboard_logs_dir.mkdir(exist_ok=True)\n",
    "\n",
    "with tf.name_scope(\"summaries\"):\n",
    "    tf.summary.scalar(\"cost\", cost)\n",
    "    tf.summary.scalar(\"accuracy\", accuracy[0])\n",
    "    tf.summary.histogram(\"output_layer\", output_layer)\n",
    "    summary_op = tf.summary.merge_all()"
   ]
  },
  {
   "cell_type": "markdown",
   "metadata": {
    "collapsed": true
   },
   "source": [
    "## Model training\n",
    "\n",
    "Now it's time to train the model!\n",
    "\n",
    "We will feed the data to the graph, one batch at a time. We will perform a parameters update each time we feed a batch ([mini batch gradient descent](https://machinelearningmastery.com/gentle-introduction-mini-batch-gradient-descent-configure-batch-size/)).\n",
    "\n",
    "Every some training steps, we will evaluate the model on the validation data, to check how the model is performing on data not used for training."
   ]
  },
  {
   "cell_type": "markdown",
   "metadata": {},
   "source": [
    "### Training hyperparameters\n",
    "\n",
    "These are the hyperparameters we need to tune in order to get the model and training to work. Try different values to see how the training and model performance change."
   ]
  },
  {
   "cell_type": "code",
   "execution_count": 11,
   "metadata": {},
   "outputs": [],
   "source": [
    "# Hyperparameters\n",
    "epochs = 20\n",
    "batch_size = 128\n",
    "learning_rate = 0.001"
   ]
  },
  {
   "cell_type": "markdown",
   "metadata": {},
   "source": [
    "### Create lists of batchs\n",
    "\n",
    "The batches are generated using the DataIterator of this repository. It outputs a batch of the required size at a time. It can shuffle the data before creating the batches, so the composition of each batch is different for each epoch (full pass over the entire training data)."
   ]
  },
  {
   "cell_type": "code",
   "execution_count": 12,
   "metadata": {},
   "outputs": [],
   "source": [
    "training_iterator = DataIterator(data=training_data,\n",
    "                                 labels=training_labels,\n",
    "                                 batch_size=batch_size,\n",
    "                                 shuffle=True)\n",
    "\n",
    "validation_iterator = DataIterator(data=validation_data,\n",
    "                                   labels=validation_labels,\n",
    "                                   batch_size=batch_size,\n",
    "                                   shuffle=True)"
   ]
  },
  {
   "cell_type": "markdown",
   "metadata": {},
   "source": [
    "### Training operations\n",
    "\n",
    "Now that we have the model graph, the training operations, and the data batch generators, we can train the model."
   ]
  },
  {
   "cell_type": "code",
   "execution_count": 13,
   "metadata": {},
   "outputs": [],
   "source": [
    "## Useful variables\n",
    "# Validate the model every some global steps and print information\n",
    "val_period = 10\n",
    "# Save the model to file every some global steps\n",
    "save_period = 20"
   ]
  },
  {
   "cell_type": "code",
   "execution_count": 14,
   "metadata": {},
   "outputs": [
    {
     "name": "stdout",
     "output_type": "stream",
     "text": [
      "Epoch 0 - Global step 0 - Training cost 86.42391967773438 - Training accuracy 0.0 - Validation cost 102.04003034319196 - Validation accuracy 0.5284465381077358\n",
      "Model saved in path: trained_models/model.ckpt\n",
      "Epoch 0 - Global step 10 - Training cost 86.95779418945312 - Training accuracy 0.5200764536857605 - Validation cost 99.37440708705357 - Validation accuracy 0.572688102722168\n",
      "Epoch 0 - Global step 20 - Training cost 89.92535400390625 - Training accuracy 0.6281070709228516 - Validation cost 96.1207275390625 - Validation accuracy 0.6439230101449149\n",
      "Model saved in path: trained_models/model.ckpt\n",
      "Epoch 0 - Global step 30 - Training cost 82.78500366210938 - Training accuracy 0.6491395831108093 - Validation cost 93.92277308872768 - Validation accuracy 0.6587826865059989\n",
      "Epoch 0 - Global step 40 - Training cost 85.2252197265625 - Training accuracy 0.6695745587348938 - Validation cost 91.35395159040179 - Validation accuracy 0.6779400280543736\n",
      "Model saved in path: trained_models/model.ckpt\n",
      "Epoch 0 - Global step 50 - Training cost 61.61607360839844 - Training accuracy 0.692638635635376 - Validation cost 89.81313650948661 - Validation accuracy 0.6974325180053711\n",
      "Epoch 1 - Global step 60 - Training cost 78.5870361328125 - Training accuracy 0.7127115726470947 - Validation cost 87.28342110770089 - Validation accuracy 0.7167653356279645\n",
      "Model saved in path: trained_models/model.ckpt\n",
      "Epoch 1 - Global step 70 - Training cost 73.0890121459961 - Training accuracy 0.7268746495246887 - Validation cost 85.32418387276786 - Validation accuracy 0.7316374097551618\n",
      "Epoch 1 - Global step 80 - Training cost 73.35746002197266 - Training accuracy 0.7439550161361694 - Validation cost 83.00340053013393 - Validation accuracy 0.7475592749459403\n",
      "Model saved in path: trained_models/model.ckpt\n",
      "Epoch 1 - Global step 90 - Training cost 71.44258117675781 - Training accuracy 0.7598935961723328 - Validation cost 81.125732421875 - Validation accuracy 0.7627519198826381\n",
      "Epoch 1 - Global step 100 - Training cost 70.76174926757812 - Training accuracy 0.7735975384712219 - Validation cost 80.08247593470982 - Validation accuracy 0.7757652827671596\n",
      "Model saved in path: trained_models/model.ckpt\n",
      "Epoch 2 - Global step 110 - Training cost 66.83797454833984 - Training accuracy 0.7847185730934143 - Validation cost 79.43758719308036 - Validation accuracy 0.7868380546569824\n",
      "Epoch 2 - Global step 120 - Training cost 66.40721130371094 - Training accuracy 0.795871913433075 - Validation cost 78.88071114676339 - Validation accuracy 0.7981254713875907\n",
      "Model saved in path: trained_models/model.ckpt\n",
      "Epoch 2 - Global step 130 - Training cost 70.32032775878906 - Training accuracy 0.8058953285217285 - Validation cost 78.45445905412946 - Validation accuracy 0.80750458581107\n",
      "Epoch 2 - Global step 140 - Training cost 68.34686279296875 - Training accuracy 0.8145525455474854 - Validation cost 78.22630964006696 - Validation accuracy 0.8160104751586914\n",
      "Model saved in path: trained_models/model.ckpt\n",
      "Epoch 2 - Global step 150 - Training cost 67.5748062133789 - Training accuracy 0.8223726153373718 - Validation cost 77.92025320870536 - Validation accuracy 0.8236774035862514\n",
      "Epoch 3 - Global step 160 - Training cost 61.93871307373047 - Training accuracy 0.829130232334137 - Validation cost 77.69706508091518 - Validation accuracy 0.8301234926496234\n",
      "Model saved in path: trained_models/model.ckpt\n",
      "Epoch 3 - Global step 170 - Training cost 67.4415283203125 - Training accuracy 0.8350338339805603 - Validation cost 77.45928083147321 - Validation accuracy 0.8359131131853376\n",
      "Epoch 3 - Global step 180 - Training cost 61.056583404541016 - Training accuracy 0.840918779373169 - Validation cost 77.49332972935268 - Validation accuracy 0.8418328421456474\n",
      "Model saved in path: trained_models/model.ckpt\n",
      "Epoch 3 - Global step 190 - Training cost 59.64679718017578 - Training accuracy 0.845905601978302 - Validation cost 77.20671735491071 - Validation accuracy 0.8468965802873883\n",
      "Epoch 3 - Global step 200 - Training cost 64.44989013671875 - Training accuracy 0.8506322503089905 - Validation cost 77.19835553850446 - Validation accuracy 0.8514024189540318\n",
      "Model saved in path: trained_models/model.ckpt\n",
      "Epoch 4 - Global step 210 - Training cost 65.5355453491211 - Training accuracy 0.855043351650238 - Validation cost 77.05392020089286 - Validation accuracy 0.8558459281921387\n",
      "Epoch 4 - Global step 220 - Training cost 60.24400329589844 - Training accuracy 0.859187126159668 - Validation cost 76.87735421316964 - Validation accuracy 0.8599846703665597\n",
      "Model saved in path: trained_models/model.ckpt\n",
      "Epoch 4 - Global step 230 - Training cost 64.54727172851562 - Training accuracy 0.8630947470664978 - Validation cost 76.84740339006696 - Validation accuracy 0.8637286594935826\n",
      "Epoch 4 - Global step 240 - Training cost 60.17087936401367 - Training accuracy 0.8666560053825378 - Validation cost 76.82945033482143 - Validation accuracy 0.8672588893345424\n",
      "Model saved in path: trained_models/model.ckpt\n",
      "Epoch 4 - Global step 250 - Training cost 63.91149139404297 - Training accuracy 0.869893491268158 - Validation cost 76.59498814174107 - Validation accuracy 0.8704325131007603\n",
      "Epoch 5 - Global step 260 - Training cost 61.55091857910156 - Training accuracy 0.8730922341346741 - Validation cost 76.40025111607143 - Validation accuracy 0.8736880166190011\n",
      "Model saved in path: trained_models/model.ckpt\n",
      "Epoch 5 - Global step 270 - Training cost 61.92795181274414 - Training accuracy 0.8764553666114807 - Validation cost 76.42653111049107 - Validation accuracy 0.8770292827061245\n",
      "Epoch 5 - Global step 280 - Training cost 59.888248443603516 - Training accuracy 0.8793894052505493 - Validation cost 76.14847237723214 - Validation accuracy 0.8799753870282855\n",
      "Model saved in path: trained_models/model.ckpt\n",
      "Epoch 5 - Global step 290 - Training cost 65.02363586425781 - Training accuracy 0.8823024034500122 - Validation cost 76.20330810546875 - Validation accuracy 0.8827622277396066\n",
      "Epoch 5 - Global step 300 - Training cost 62.63793182373047 - Training accuracy 0.884972870349884 - Validation cost 76.08590262276786 - Validation accuracy 0.8854795183454242\n",
      "Model saved in path: trained_models/model.ckpt\n",
      "Epoch 6 - Global step 310 - Training cost 60.6938362121582 - Training accuracy 0.8875147104263306 - Validation cost 76.06203787667411 - Validation accuracy 0.8879502160208566\n",
      "Epoch 6 - Global step 320 - Training cost 61.93265914916992 - Training accuracy 0.8899304866790771 - Validation cost 75.91618129185268 - Validation accuracy 0.890427657536098\n",
      "Model saved in path: trained_models/model.ckpt\n",
      "Epoch 6 - Global step 330 - Training cost 63.096275329589844 - Training accuracy 0.8923012018203735 - Validation cost 75.78281075613839 - Validation accuracy 0.8927636827741351\n",
      "Epoch 6 - Global step 340 - Training cost 59.18989562988281 - Training accuracy 0.8945885300636292 - Validation cost 75.92710658482143 - Validation accuracy 0.8950153759547642\n",
      "Model saved in path: trained_models/model.ckpt\n",
      "Epoch 6 - Global step 350 - Training cost 61.54010009765625 - Training accuracy 0.8965668082237244 - Validation cost 75.65933663504464 - Validation accuracy 0.8969967705862862\n",
      "Epoch 7 - Global step 360 - Training cost 64.69052124023438 - Training accuracy 0.8986634016036987 - Validation cost 75.65423583984375 - Validation accuracy 0.8990183557782855\n",
      "Model saved in path: trained_models/model.ckpt\n",
      "Epoch 7 - Global step 370 - Training cost 62.263954162597656 - Training accuracy 0.9006968140602112 - Validation cost 75.59840611049107 - Validation accuracy 0.9010656901768276\n",
      "Epoch 7 - Global step 380 - Training cost 60.90549087524414 - Training accuracy 0.902547299861908 - Validation cost 75.53319440569196 - Validation accuracy 0.9028784206935337\n",
      "Model saved in path: trained_models/model.ckpt\n",
      "Epoch 7 - Global step 390 - Training cost 57.2186164855957 - Training accuracy 0.9042903184890747 - Validation cost 75.5518798828125 - Validation accuracy 0.9046631540570941\n",
      "Epoch 7 - Global step 400 - Training cost 66.08607482910156 - Training accuracy 0.9059819579124451 - Validation cost 75.42067173549107 - Validation accuracy 0.9062809262956891\n",
      "Model saved in path: trained_models/model.ckpt\n",
      "Epoch 8 - Global step 410 - Training cost 62.36043930053711 - Training accuracy 0.907572329044342 - Validation cost 75.23264857700893 - Validation accuracy 0.9078811236790248\n",
      "Epoch 8 - Global step 420 - Training cost 60.788612365722656 - Training accuracy 0.9091852903366089 - Validation cost 75.22162737165179 - Validation accuracy 0.9094935825892857\n"
     ]
    },
    {
     "name": "stdout",
     "output_type": "stream",
     "text": [
      "Model saved in path: trained_models/model.ckpt\n",
      "Epoch 8 - Global step 430 - Training cost 62.822959899902344 - Training accuracy 0.9106784462928772 - Validation cost 75.25464739118304 - Validation accuracy 0.9109427588326591\n",
      "Epoch 8 - Global step 440 - Training cost 59.82518768310547 - Training accuracy 0.9120818376541138 - Validation cost 75.19054303850446 - Validation accuracy 0.9123538562229702\n",
      "Model saved in path: trained_models/model.ckpt\n",
      "Epoch 8 - Global step 450 - Training cost 60.10016632080078 - Training accuracy 0.9134865403175354 - Validation cost 75.13241141183036 - Validation accuracy 0.9137419291904995\n",
      "Epoch 9 - Global step 460 - Training cost 62.75225067138672 - Training accuracy 0.9148364067077637 - Validation cost 75.26555524553571 - Validation accuracy 0.91510009765625\n",
      "Model saved in path: trained_models/model.ckpt\n",
      "Epoch 9 - Global step 470 - Training cost 63.301246643066406 - Training accuracy 0.9160412549972534 - Validation cost 75.21884591238839 - Validation accuracy 0.9162424632481166\n",
      "Epoch 9 - Global step 480 - Training cost 59.838504791259766 - Training accuracy 0.917205810546875 - Validation cost 74.94849504743304 - Validation accuracy 0.9174449784415108\n",
      "Model saved in path: trained_models/model.ckpt\n",
      "Epoch 9 - Global step 490 - Training cost 62.98740768432617 - Training accuracy 0.9183813333511353 - Validation cost 74.97543770926339 - Validation accuracy 0.9185834612165179\n",
      "Epoch 9 - Global step 500 - Training cost 60.25761413574219 - Training accuracy 0.919605553150177 - Validation cost 74.91519601004464 - Validation accuracy 0.9198180607386998\n",
      "Model saved in path: trained_models/model.ckpt\n",
      "Epoch 10 - Global step 510 - Training cost 63.618064880371094 - Training accuracy 0.9207138419151306 - Validation cost 74.89170619419643 - Validation accuracy 0.920910290309361\n",
      "Epoch 10 - Global step 520 - Training cost 60.19346618652344 - Training accuracy 0.9217908978462219 - Validation cost 74.84000941685268 - Validation accuracy 0.9220125334603446\n",
      "Model saved in path: trained_models/model.ckpt\n",
      "Epoch 10 - Global step 530 - Training cost 63.61764144897461 - Training accuracy 0.9228272438049316 - Validation cost 74.79534912109375 - Validation accuracy 0.9230232919965472\n",
      "Epoch 10 - Global step 540 - Training cost 61.28132629394531 - Training accuracy 0.923833966255188 - Validation cost 74.7686767578125 - Validation accuracy 0.9240256037030902\n",
      "Model saved in path: trained_models/model.ckpt\n",
      "Epoch 10 - Global step 550 - Training cost 59.06206512451172 - Training accuracy 0.9248126745223999 - Validation cost 74.74983433314732 - Validation accuracy 0.9249841145106724\n",
      "Epoch 10 - Global step 560 - Training cost 46.98713684082031 - Training accuracy 0.9257820248603821 - Validation cost 74.71884591238839 - Validation accuracy 0.9259516852242606\n",
      "Model saved in path: trained_models/model.ckpt\n",
      "Epoch 11 - Global step 570 - Training cost 58.56759262084961 - Training accuracy 0.9266412258148193 - Validation cost 74.62579345703125 - Validation accuracy 0.9268311091831752\n",
      "Epoch 11 - Global step 580 - Training cost 59.976688385009766 - Training accuracy 0.9275870323181152 - Validation cost 74.64263044084821 - Validation accuracy 0.9277497019086566\n",
      "Model saved in path: trained_models/model.ckpt\n",
      "Epoch 11 - Global step 590 - Training cost 60.725608825683594 - Training accuracy 0.9284356832504272 - Validation cost 74.52090018136161 - Validation accuracy 0.9285932949611119\n",
      "Epoch 11 - Global step 600 - Training cost 64.33485412597656 - Training accuracy 0.9292879104614258 - Validation cost 74.56666782924107 - Validation accuracy 0.9294189725603376\n",
      "Model saved in path: trained_models/model.ckpt\n",
      "Epoch 11 - Global step 610 - Training cost 59.60668182373047 - Training accuracy 0.9300729036331177 - Validation cost 74.54970877511161 - Validation accuracy 0.930236680167062\n",
      "Epoch 12 - Global step 620 - Training cost 59.76597213745117 - Training accuracy 0.9308561682701111 - Validation cost 74.46908133370536 - Validation accuracy 0.9309911046709333\n",
      "Model saved in path: trained_models/model.ckpt\n",
      "Epoch 12 - Global step 630 - Training cost 61.88584899902344 - Training accuracy 0.9316369891166687 - Validation cost 74.43906947544643 - Validation accuracy 0.9317787715366909\n",
      "Epoch 12 - Global step 640 - Training cost 59.16633605957031 - Training accuracy 0.932408332824707 - Validation cost 74.41665213448661 - Validation accuracy 0.932537419455392\n",
      "Model saved in path: trained_models/model.ckpt\n",
      "Epoch 12 - Global step 650 - Training cost 59.32569885253906 - Training accuracy 0.9331337809562683 - Validation cost 74.41495186941964 - Validation accuracy 0.9332676615033831\n",
      "Epoch 12 - Global step 660 - Training cost 65.05838012695312 - Training accuracy 0.9338444471359253 - Validation cost 74.36494663783482 - Validation accuracy 0.9339725630623954\n",
      "Model saved in path: trained_models/model.ckpt\n",
      "Epoch 13 - Global step 670 - Training cost 56.99077606201172 - Training accuracy 0.9345135688781738 - Validation cost 74.37859235491071 - Validation accuracy 0.9346303258623395\n",
      "Epoch 13 - Global step 680 - Training cost 58.44767761230469 - Training accuracy 0.935154914855957 - Validation cost 74.23944963727679 - Validation accuracy 0.93528870173863\n",
      "Model saved in path: trained_models/model.ckpt\n",
      "Epoch 13 - Global step 690 - Training cost 65.26994323730469 - Training accuracy 0.9358887076377869 - Validation cost 74.31124441964286 - Validation accuracy 0.9360139710562569\n",
      "Epoch 13 - Global step 700 - Training cost 61.914756774902344 - Training accuracy 0.9364919662475586 - Validation cost 74.25780378069196 - Validation accuracy 0.9366240501403809\n",
      "Model saved in path: trained_models/model.ckpt\n",
      "Epoch 13 - Global step 710 - Training cost 60.6984748840332 - Training accuracy 0.9371524453163147 - Validation cost 74.28901018415179 - Validation accuracy 0.9372803824288505\n",
      "Epoch 14 - Global step 720 - Training cost 59.61212921142578 - Training accuracy 0.9377296566963196 - Validation cost 74.24241420200893 - Validation accuracy 0.9378528594970703\n",
      "Model saved in path: trained_models/model.ckpt\n",
      "Epoch 14 - Global step 730 - Training cost 62.67039489746094 - Training accuracy 0.938361644744873 - Validation cost 74.18265206473214 - Validation accuracy 0.9384634154183524\n",
      "Epoch 14 - Global step 740 - Training cost 58.596378326416016 - Training accuracy 0.9389635920524597 - Validation cost 74.13505336216518 - Validation accuracy 0.9391043526785714\n",
      "Model saved in path: trained_models/model.ckpt\n",
      "Epoch 14 - Global step 750 - Training cost 63.086700439453125 - Training accuracy 0.9395302534103394 - Validation cost 74.19406563895089 - Validation accuracy 0.9396426337105888\n",
      "Epoch 14 - Global step 760 - Training cost 61.137271881103516 - Training accuracy 0.9400945901870728 - Validation cost 74.11537388392857 - Validation accuracy 0.9402064595903669\n",
      "Model saved in path: trained_models/model.ckpt\n",
      "Epoch 15 - Global step 770 - Training cost 57.58447265625 - Training accuracy 0.9406338930130005 - Validation cost 74.0966796875 - Validation accuracy 0.9407461711338588\n",
      "Epoch 15 - Global step 780 - Training cost 66.83170318603516 - Training accuracy 0.9411696195602417 - Validation cost 74.10990687779018 - Validation accuracy 0.9412744385855538\n",
      "Model saved in path: trained_models/model.ckpt\n",
      "Epoch 15 - Global step 790 - Training cost 63.87224578857422 - Training accuracy 0.9417160153388977 - Validation cost 74.06198556082589 - Validation accuracy 0.9418186460222516\n",
      "Epoch 15 - Global step 800 - Training cost 61.058921813964844 - Training accuracy 0.9422367215156555 - Validation cost 74.07490757533482 - Validation accuracy 0.9423194612775531\n",
      "Model saved in path: trained_models/model.ckpt\n",
      "Epoch 15 - Global step 810 - Training cost 60.67022705078125 - Training accuracy 0.9427682161331177 - Validation cost 74.03803362165179 - Validation accuracy 0.9428719111851284\n",
      "Epoch 16 - Global step 820 - Training cost 59.59955596923828 - Training accuracy 0.9432598948478699 - Validation cost 74.006103515625 - Validation accuracy 0.943375859941755\n",
      "Model saved in path: trained_models/model.ckpt\n",
      "Epoch 16 - Global step 830 - Training cost 61.96613311767578 - Training accuracy 0.9437547922134399 - Validation cost 73.98134068080357 - Validation accuracy 0.9438291958400181\n",
      "Epoch 16 - Global step 840 - Training cost 58.8929443359375 - Training accuracy 0.9442092776298523 - Validation cost 73.97064208984375 - Validation accuracy 0.9442969730922154\n",
      "Model saved in path: trained_models/model.ckpt\n",
      "Epoch 16 - Global step 850 - Training cost 59.22422409057617 - Training accuracy 0.9446642994880676 - Validation cost 73.92131696428571 - Validation accuracy 0.9447536468505859\n",
      "Epoch 16 - Global step 860 - Training cost 59.912025451660156 - Training accuracy 0.9451477527618408 - Validation cost 73.93523297991071 - Validation accuracy 0.9452410425458636\n",
      "Model saved in path: trained_models/model.ckpt\n",
      "Epoch 17 - Global step 870 - Training cost 61.82196807861328 - Training accuracy 0.9455896615982056 - Validation cost 73.88672746930804 - Validation accuracy 0.9456774847848075\n",
      "Epoch 17 - Global step 880 - Training cost 59.854591369628906 - Training accuracy 0.9460244178771973 - Validation cost 73.89450509207589 - Validation accuracy 0.9461115428379604\n",
      "Model saved in path: trained_models/model.ckpt\n",
      "Epoch 17 - Global step 890 - Training cost 61.917991638183594 - Training accuracy 0.9464654922485352 - Validation cost 73.89925711495536 - Validation accuracy 0.9465558869498116\n",
      "Epoch 17 - Global step 900 - Training cost 63.670166015625 - Training accuracy 0.9468808174133301 - Validation cost 73.85398646763393 - Validation accuracy 0.9469644682747977\n"
     ]
    },
    {
     "name": "stdout",
     "output_type": "stream",
     "text": [
      "Model saved in path: trained_models/model.ckpt\n",
      "Epoch 17 - Global step 910 - Training cost 63.39147186279297 - Training accuracy 0.9472974538803101 - Validation cost 73.83652169363839 - Validation accuracy 0.9473896026611328\n",
      "Epoch 18 - Global step 920 - Training cost 62.245269775390625 - Training accuracy 0.9477182626724243 - Validation cost 73.81527273995536 - Validation accuracy 0.9478090831211635\n",
      "Model saved in path: trained_models/model.ckpt\n",
      "Epoch 18 - Global step 930 - Training cost 61.36833953857422 - Training accuracy 0.9481170177459717 - Validation cost 73.82691301618304 - Validation accuracy 0.9481829915727887\n",
      "Epoch 18 - Global step 940 - Training cost 64.40220642089844 - Training accuracy 0.9485174417495728 - Validation cost 73.8135986328125 - Validation accuracy 0.9485975674220494\n",
      "Model saved in path: trained_models/model.ckpt\n",
      "Epoch 18 - Global step 950 - Training cost 61.12360382080078 - Training accuracy 0.9489245414733887 - Validation cost 73.78105817522321 - Validation accuracy 0.949004990713937\n",
      "Epoch 18 - Global step 960 - Training cost 61.03141784667969 - Training accuracy 0.9492981433868408 - Validation cost 73.72549874441964 - Validation accuracy 0.9493739945547921\n",
      "Model saved in path: trained_models/model.ckpt\n",
      "Epoch 19 - Global step 970 - Training cost 62.78690719604492 - Training accuracy 0.9496521353721619 - Validation cost 73.70002964564732 - Validation accuracy 0.949723516191755\n",
      "Epoch 19 - Global step 980 - Training cost 58.814640045166016 - Training accuracy 0.9500205516815186 - Validation cost 73.69893973214286 - Validation accuracy 0.9501035554068429\n",
      "Model saved in path: trained_models/model.ckpt\n",
      "Epoch 19 - Global step 990 - Training cost 62.197872161865234 - Training accuracy 0.9504153728485107 - Validation cost 73.71685791015625 - Validation accuracy 0.9504867962428502\n",
      "Epoch 19 - Global step 1000 - Training cost 61.794822692871094 - Training accuracy 0.9507734775543213 - Validation cost 73.67863246372768 - Validation accuracy 0.9508461271013532\n",
      "Model saved in path: trained_models/model.ckpt\n",
      "Epoch 19 - Global step 1010 - Training cost 62.951820373535156 - Training accuracy 0.9511150121688843 - Validation cost 73.68287876674107 - Validation accuracy 0.9511908122471401\n",
      "Finished 20 epochs!\n"
     ]
    }
   ],
   "source": [
    "# Tensorboard files\n",
    "tensorboard_job_name = \"dl_{}-ds_{}-lr_{}-e_{}-b_{}\".format(fully_connected_layers,\n",
    "                                                            fully_connected_size,\n",
    "                                                            learning_rate,\n",
    "                                                            epochs,\n",
    "                                                            batch_size)\n",
    "tensorboard_log_dir = Path(tensorboard_logs_dir, tensorboard_job_name)\n",
    "\n",
    "# This tensorflow operations are used to initialize all the variables of the model.\n",
    "init_op = tf.global_variables_initializer()\n",
    "init_l_op = tf.local_variables_initializer()\n",
    "\n",
    "global_step_count = 0\n",
    "\n",
    "with tf.Session() as sess:\n",
    "    \n",
    "    # Initialize graph variables\n",
    "    sess.run(init_op)\n",
    "    sess.run(init_l_op)\n",
    "    \n",
    "    # Training and validation Tensorboard files writers\n",
    "    train_writer = tf.summary.FileWriter(str(Path(tensorboard_log_dir, \"train\")),\n",
    "                                         sess.graph)\n",
    "    validation_writer = tf.summary.FileWriter(str(Path(tensorboard_log_dir, \"validation\")),\n",
    "                                              sess.graph)\n",
    "    \n",
    "    # Set up a Saver for periodically serializing the model\n",
    "    saver = tf.train.Saver(max_to_keep=5)\n",
    "    \n",
    "    # Create list to store usefull data\n",
    "    training_costs = []\n",
    "    training_accuracies = []\n",
    "    validation_costs = []\n",
    "    validation_accuracies = []\n",
    "    \n",
    "    # Iterate over the entire data\n",
    "    for epoch in range(epochs):\n",
    "        \n",
    "        # Iterate over a generator that returns batches\n",
    "        for train_batch in training_iterator:\n",
    "            \n",
    "            global_step_count = sess.run(global_step)\n",
    "            \n",
    "            feed_dict = {x: train_batch[0],\n",
    "                         y: train_batch[1],\n",
    "                         learning_rate_input: learning_rate}\n",
    "            \n",
    "            # Do a gradient update, and log results to Tensorboard               \n",
    "            train_cost, train_accuracy, _, train_summary = sess.run(\n",
    "                [cost, accuracy, training_op, summary_op],\n",
    "                feed_dict=feed_dict)\n",
    "            train_writer.add_summary(train_summary, global_step_count)\n",
    "            \n",
    "            training_costs.append(train_cost)\n",
    "            training_accuracies.append(train_accuracy[0])\n",
    "            \n",
    "            # Evaluate the model on validation set every val_period steps\n",
    "            if global_step_count % val_period == 0:\n",
    "                \n",
    "                val_batch_accuracies = []\n",
    "                val_batch_costs = []\n",
    "                \n",
    "                # Evaluate on validation data\n",
    "                for val_batch in validation_iterator:\n",
    "                    \n",
    "                    validation_feed_dict = {x: val_batch[0],\n",
    "                                            y: val_batch[1]}\n",
    "                    \n",
    "                    val_batch_accuracy, val_batch_cost = sess.run(\n",
    "                        [accuracy, cost],\n",
    "                        feed_dict=validation_feed_dict)\n",
    "                    \n",
    "                    val_batch_accuracies.append(np.sum(val_batch_accuracy[0]))\n",
    "                    val_batch_costs.append(np.sum(val_batch_cost))\n",
    "                \n",
    "                mean_val_accuracy = np.sum(np.array(val_batch_accuracies)) / validation_iterator.total_batches\n",
    "                mean_val_cost = np.sum(np.array(val_batch_costs)) / validation_iterator.total_batches\n",
    "                \n",
    "                val_summary = tf.Summary(value=[\n",
    "                    tf.Summary.Value(tag=\"val_summaries/accuracy\",\n",
    "                                     simple_value=mean_val_accuracy),\n",
    "                    tf.Summary.Value(tag=\"val_summaries/cost\",\n",
    "                                     simple_value=mean_val_cost)])\n",
    "                \n",
    "                validation_writer.add_summary(val_summary, global_step_count)\n",
    "                \n",
    "                validation_costs.append(mean_val_cost)\n",
    "                validation_accuracies.append(mean_val_accuracy)\n",
    "                \n",
    "                # Print information abuot training\n",
    "                print(\"Epoch {} - Global step {} - Training cost {} - Training accuracy {} - \"\n",
    "                      \"Validation cost {} - Validation accuracy {}\".format(epoch,\n",
    "                                                                           global_step_count,\n",
    "                                                                           train_cost,\n",
    "                                                                           train_accuracy[0],\n",
    "                                                                           mean_val_cost,\n",
    "                                                                           mean_val_accuracy))\n",
    "            \n",
    "            # Write a model checkpoint if necessary.\n",
    "            if global_step_count % save_period == 0:\n",
    "                save_path = saver.save(sess, \"trained_models/model.ckpt\")\n",
    "                print(\"Model saved in path: {}\".format(save_path))\n",
    "    \n",
    "    # Done training!\n",
    "    print(\"Finished {} epochs!\".format(epoch + 1))"
   ]
  },
  {
   "cell_type": "markdown",
   "metadata": {},
   "source": [
    "## Plot cost and accuracy during training\n",
    "\n",
    "Now we plot the how the cost and accuracy change during training, for both the training data and the validation data. This information is also ploted in Tensorboard, but we plot it here anyways.\n",
    "\n",
    "*Note: The training cost and accuracy is for one batch of data, but for the validation test, we plot the mean accuracy and cost over all the data batches.*"
   ]
  },
  {
   "cell_type": "code",
   "execution_count": 15,
   "metadata": {},
   "outputs": [
    {
     "data": {
      "image/png": "[encoded data removed]",
      "text/plain": [
       "<Figure size 432x288 with 1 Axes>"
      ]
     },
     "metadata": {},
     "output_type": "display_data"
    }
   ],
   "source": [
    "plt.plot(range(len(training_costs)), training_costs, color=\"red\")\n",
    "plt.title(\"Training cost\")\n",
    "plt.grid()"
   ]
  },
  {
   "cell_type": "code",
   "execution_count": 16,
   "metadata": {},
   "outputs": [
    {
     "data": {
      "image/png": "[encoded data removed]",
      "text/plain": [
       "<Figure size 432x288 with 1 Axes>"
      ]
     },
     "metadata": {},
     "output_type": "display_data"
    }
   ],
   "source": [
    "plt.plot(range(len(training_accuracies)), training_accuracies, color=\"red\")\n",
    "plt.title(\"Training accuracy\")\n",
    "plt.grid()"
   ]
  },
  {
   "cell_type": "code",
   "execution_count": 17,
   "metadata": {},
   "outputs": [
    {
     "data": {
      "image/png": "[encoded data removed]",
      "text/plain": [
       "<Figure size 432x288 with 1 Axes>"
      ]
     },
     "metadata": {},
     "output_type": "display_data"
    }
   ],
   "source": [
    "plt.plot(range(len(validation_costs)), validation_costs)\n",
    "plt.title(\"Validation cost\")\n",
    "plt.grid()"
   ]
  },
  {
   "cell_type": "code",
   "execution_count": 18,
   "metadata": {},
   "outputs": [
    {
     "data": {
      "image/png": "[encoded data removed]",
      "text/plain": [
       "<Figure size 432x288 with 1 Axes>"
      ]
     },
     "metadata": {},
     "output_type": "display_data"
    }
   ],
   "source": [
    "plt.plot(range(len(validation_accuracies)), validation_accuracies)\n",
    "plt.title(\"Validation accuracy\")\n",
    "plt.grid()"
   ]
  },
  {
   "cell_type": "markdown",
   "metadata": {},
   "source": [
    "## Tensorboard\n",
    "\n",
    "To use tensorboard open a console, go to the project folder (`\"mushrooms\"`) type:\n",
    "\n",
    "```bash\n",
    "tensorboard --logdir tensoboard_logs\\\n",
    "```"
   ]
  },
  {
   "cell_type": "markdown",
   "metadata": {},
   "source": [
    "### Tensoboard results\n",
    "\n",
    "![output_layer_histograms](notebook_images/output_layer_histograms.png)\n",
    "![graph](notebook_images/graph.png)"
   ]
  },
  {
   "cell_type": "code",
   "execution_count": null,
   "metadata": {},
   "outputs": [],
   "source": []
  }
 ],
 "metadata": {
  "kernelspec": {
   "display_name": "Python 3",
   "language": "python",
   "name": "python3"
  },
  "language_info": {
   "codemirror_mode": {
    "name": "ipython",
    "version": 3
   },
   "file_extension": ".py",
   "mimetype": "text/x-python",
   "name": "python",
   "nbconvert_exporter": "python",
   "pygments_lexer": "ipython3",
   "version": "3.6.5"
  }
 },
 "nbformat": 4,
 "nbformat_minor": 2
}
