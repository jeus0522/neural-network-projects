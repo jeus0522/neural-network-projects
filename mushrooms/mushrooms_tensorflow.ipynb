{
 "cells": [
  {
   "cell_type": "code",
   "execution_count": 1,
   "metadata": {},
   "outputs": [],
   "source": [
    "import sys\n",
    "from pathlib import Path\n",
    "\n",
    "import numpy as np\n",
    "import tensorflow as tf\n",
    "\n",
    "SCRIPT_DIR = Path.cwd()\n",
    "sys.path.append(str(SCRIPT_DIR.parent))\n",
    "\n",
    "from data_utils.data_iterator import DataIterator"
   ]
  },
  {
   "cell_type": "markdown",
   "metadata": {},
   "source": [
    "## Load the processed data"
   ]
  },
  {
   "cell_type": "code",
   "execution_count": 2,
   "metadata": {},
   "outputs": [],
   "source": [
    "training_data = np.load(open(\"training_data/mushrooms_training_data.npy\", 'rb'))\n",
    "training_labels = np.load(open(\"training_data/mushrooms_training_labels.npy\", 'rb'))\n",
    "validation_data = np.load(open(\"training_data/mushrooms_validation_data.npy\", 'rb'))\n",
    "validation_labels = np.load(open(\"training_data/mushrooms_validation_labels.npy\", 'rb'))\n",
    "test_data = np.load(open(\"training_data/mushrooms_test_data.npy\", 'rb'))\n",
    "test_labels = np.load(open(\"training_data/mushrooms_test_labels.npy\", 'rb'))"
   ]
  },
  {
   "cell_type": "code",
   "execution_count": 3,
   "metadata": {},
   "outputs": [
    {
     "data": {
      "text/plain": [
       "(6500, 117)"
      ]
     },
     "execution_count": 3,
     "metadata": {},
     "output_type": "execute_result"
    }
   ],
   "source": [
    "training_data.shape"
   ]
  },
  {
   "cell_type": "code",
   "execution_count": 4,
   "metadata": {},
   "outputs": [
    {
     "data": {
      "text/plain": [
       "(6500, 1)"
      ]
     },
     "execution_count": 4,
     "metadata": {},
     "output_type": "execute_result"
    }
   ],
   "source": [
    "training_labels.shape"
   ]
  },
  {
   "cell_type": "code",
   "execution_count": 5,
   "metadata": {},
   "outputs": [
    {
     "data": {
      "text/plain": [
       "(812, 117)"
      ]
     },
     "execution_count": 5,
     "metadata": {},
     "output_type": "execute_result"
    }
   ],
   "source": [
    "validation_data.shape"
   ]
  },
  {
   "cell_type": "markdown",
   "metadata": {},
   "source": [
    "## Model hyperparameters and parameters"
   ]
  },
  {
   "cell_type": "code",
   "execution_count": 6,
   "metadata": {},
   "outputs": [],
   "source": [
    "# Hyperparameters\n",
    "epochs = 20\n",
    "learning_rate = 0.001\n",
    "batch_size = 512"
   ]
  },
  {
   "cell_type": "code",
   "execution_count": 7,
   "metadata": {},
   "outputs": [],
   "source": [
    "# Parameters\n",
    "hidden_1_units = 50\n",
    "hidden_1_activation = tf.nn.relu\n",
    "hidden_2_units = 20\n",
    "hidden_2_activation = tf.nn.relu\n",
    "hidden_3_units = 5\n",
    "hidden_3_activation = tf.nn.relu"
   ]
  },
  {
   "cell_type": "markdown",
   "metadata": {},
   "source": [
    "## Create model\n",
    "### Placeholders"
   ]
  },
  {
   "cell_type": "code",
   "execution_count": 8,
   "metadata": {},
   "outputs": [],
   "source": [
    "x = tf.placeholder(dtype=tf.float32, shape=[None, training_data.shape[1]], name=\"inputs\")\n",
    "y = tf.placeholder(dtype=tf.float32, shape=[None, 1], name=\"labels\")"
   ]
  },
  {
   "cell_type": "markdown",
   "metadata": {},
   "source": [
    "### Create hidden layers and output layer"
   ]
  },
  {
   "cell_type": "code",
   "execution_count": 9,
   "metadata": {},
   "outputs": [],
   "source": [
    "fully_connected_1 = tf.layers.dense(x, units=hidden_1_units, activation=hidden_1_activation, name=\"hidden_1\")\n",
    "fully_connected_2 = tf.layers.dense(fully_connected_1, units=hidden_2_units, activation=hidden_2_activation, name=\"hidden_2\")\n",
    "fully_connected_3 = tf.layers.dense(fully_connected_2, units=hidden_3_units, activation=hidden_3_activation, name=\"hidden_3\")\n",
    "output_layer = tf.layers.dense(fully_connected_3, units=1, activation=tf.nn.relu, name=\"output\")"
   ]
  },
  {
   "cell_type": "markdown",
   "metadata": {},
   "source": [
    "### Cost and Optimizer"
   ]
  },
  {
   "cell_type": "code",
   "execution_count": 10,
   "metadata": {},
   "outputs": [],
   "source": [
    "init = tf.global_variables_initializer()\n",
    "\n",
    "with tf.variable_scope(\"Cost_and_Optimizer\"):\n",
    "    loss_op = tf.nn.sigmoid_cross_entropy_with_logits(labels=y, logits=output_layer, name=\"loss_op\")\n",
    "    cost = tf.reduce_sum(loss_op, name=\"cost\")\n",
    "    optimizer = tf.train.GradientDescentOptimizer(learning_rate=learning_rate)\n",
    "    train = optimizer.minimize(cost)"
   ]
  },
  {
   "cell_type": "markdown",
   "metadata": {},
   "source": [
    "### Create lists of batchs"
   ]
  },
  {
   "cell_type": "code",
   "execution_count": 12,
   "metadata": {},
   "outputs": [],
   "source": [
    "training_iterator = DataIterator(training_data, training_labels, batch_size=batch_size, shuffle=True)"
   ]
  },
  {
   "cell_type": "markdown",
   "metadata": {
    "collapsed": true
   },
   "source": [
    "## Model training"
   ]
  },
  {
   "cell_type": "code",
   "execution_count": 17,
   "metadata": {},
   "outputs": [
    {
     "name": "stdout",
     "output_type": "stream",
     "text": [
      "Epoch N°: 0 - Batch N°: 0\n",
      "Training cost = 354.1033935546875 - Training accuracy = 45.8984375%\n",
      "Validation cost = 565.1396484375 - Validation accuracy = 81.77339901477832%\n",
      "Epoch N°: 0 - Batch N°: 5\n",
      "Training cost = 307.39910888671875 - Training accuracy = 76.171875%\n",
      "Validation cost = 603.3128662109375 - Validation accuracy = 86.94581280788178%\n",
      "Epoch N°: 0 - Batch N°: 10\n",
      "Training cost = 263.9947509765625 - Training accuracy = 85.9375%\n",
      "Validation cost = 533.6166381835938 - Validation accuracy = 89.90147783251231%\n",
      "Epoch N°: 1 - Batch N°: 15\n",
      "Training cost = 209.97283935546875 - Training accuracy = 94.53125%\n",
      "Validation cost = 516.61865234375 - Validation accuracy = 95.19704433497537%\n",
      "Epoch N°: 1 - Batch N°: 20\n",
      "Training cost = 190.21658325195312 - Training accuracy = 95.5078125%\n",
      "Validation cost = 486.14239501953125 - Validation accuracy = 98.0295566502463%\n",
      "Epoch N°: 1 - Batch N°: 25\n",
      "Training cost = 125.79368591308594 - Training accuracy = 97.47191011235955%\n",
      "Validation cost = 490.51055908203125 - Validation accuracy = 97.53694581280789%\n",
      "Epoch N°: 2 - Batch N°: 30\n",
      "Training cost = 165.8966064453125 - Training accuracy = 96.875%\n",
      "Validation cost = 492.29949951171875 - Validation accuracy = 97.53694581280789%\n",
      "Epoch N°: 2 - Batch N°: 35\n",
      "Training cost = 156.62319946289062 - Training accuracy = 99.0234375%\n",
      "Validation cost = 494.7747802734375 - Validation accuracy = 97.41379310344827%\n",
      "Epoch N°: 3 - Batch N°: 40\n",
      "Training cost = 167.17605590820312 - Training accuracy = 98.046875%\n",
      "Validation cost = 495.5884704589844 - Validation accuracy = 97.41379310344827%\n",
      "Epoch N°: 3 - Batch N°: 45\n",
      "Training cost = 146.81484985351562 - Training accuracy = 99.0234375%\n",
      "Validation cost = 493.9892578125 - Validation accuracy = 97.29064039408867%\n",
      "Epoch N°: 3 - Batch N°: 50\n",
      "Training cost = 157.9833526611328 - Training accuracy = 99.21875%\n",
      "Validation cost = 487.72491455078125 - Validation accuracy = 97.78325123152709%\n",
      "Epoch N°: 4 - Batch N°: 55\n",
      "Training cost = 148.67413330078125 - Training accuracy = 99.21875%\n",
      "Validation cost = 488.99542236328125 - Validation accuracy = 97.66009852216749%\n",
      "Epoch N°: 4 - Batch N°: 60\n",
      "Training cost = 156.75259399414062 - Training accuracy = 98.2421875%\n",
      "Validation cost = 487.3092346191406 - Validation accuracy = 97.66009852216749%\n",
      "Epoch N°: 5 - Batch N°: 65\n",
      "Training cost = 158.5144500732422 - Training accuracy = 99.0234375%\n",
      "Validation cost = 487.3450012207031 - Validation accuracy = 97.53694581280789%\n",
      "Epoch N°: 5 - Batch N°: 70\n",
      "Training cost = 163.57765197753906 - Training accuracy = 98.828125%\n",
      "Validation cost = 484.0824890136719 - Validation accuracy = 98.0295566502463%\n",
      "Epoch N°: 5 - Batch N°: 75\n",
      "Training cost = 159.91259765625 - Training accuracy = 99.4140625%\n",
      "Validation cost = 484.8197937011719 - Validation accuracy = 98.0295566502463%\n",
      "Epoch N°: 6 - Batch N°: 80\n",
      "Training cost = 171.72830200195312 - Training accuracy = 99.21875%\n",
      "Validation cost = 483.27557373046875 - Validation accuracy = 98.0295566502463%\n",
      "Epoch N°: 6 - Batch N°: 85\n",
      "Training cost = 166.3807373046875 - Training accuracy = 98.4375%\n",
      "Validation cost = 484.32598876953125 - Validation accuracy = 98.15270935960592%\n",
      "Epoch N°: 6 - Batch N°: 90\n",
      "Training cost = 106.41663360595703 - Training accuracy = 99.71910112359551%\n",
      "Validation cost = 481.53936767578125 - Validation accuracy = 98.27586206896551%\n",
      "Epoch N°: 7 - Batch N°: 95\n",
      "Training cost = 160.2598876953125 - Training accuracy = 98.6328125%\n",
      "Validation cost = 481.6630554199219 - Validation accuracy = 98.52216748768473%\n",
      "Epoch N°: 7 - Batch N°: 100\n",
      "Training cost = 147.90988159179688 - Training accuracy = 99.21875%\n",
      "Validation cost = 480.9700012207031 - Validation accuracy = 98.27586206896551%\n",
      "Epoch N°: 8 - Batch N°: 105\n",
      "Training cost = 153.40280151367188 - Training accuracy = 99.21875%\n",
      "Validation cost = 480.0009460449219 - Validation accuracy = 98.39901477832512%\n",
      "Epoch N°: 8 - Batch N°: 110\n",
      "Training cost = 148.46865844726562 - Training accuracy = 98.6328125%\n",
      "Validation cost = 480.5827941894531 - Validation accuracy = 98.39901477832512%\n",
      "Epoch N°: 8 - Batch N°: 115\n",
      "Training cost = 161.5781707763672 - Training accuracy = 98.828125%\n",
      "Validation cost = 479.4005432128906 - Validation accuracy = 98.64532019704434%\n",
      "Epoch N°: 9 - Batch N°: 120\n",
      "Training cost = 153.4536590576172 - Training accuracy = 99.4140625%\n",
      "Validation cost = 481.1726989746094 - Validation accuracy = 98.39901477832512%\n",
      "Epoch N°: 9 - Batch N°: 125\n",
      "Training cost = 154.251220703125 - Training accuracy = 99.4140625%\n",
      "Validation cost = 479.4081726074219 - Validation accuracy = 98.89162561576354%\n",
      "Epoch N°: 10 - Batch N°: 130\n",
      "Training cost = 147.21253967285156 - Training accuracy = 99.8046875%\n",
      "Validation cost = 478.5159606933594 - Validation accuracy = 98.76847290640394%\n",
      "Epoch N°: 10 - Batch N°: 135\n",
      "Training cost = 165.3856201171875 - Training accuracy = 98.6328125%\n",
      "Validation cost = 477.7090759277344 - Validation accuracy = 98.89162561576354%\n",
      "Epoch N°: 10 - Batch N°: 140\n",
      "Training cost = 146.05685424804688 - Training accuracy = 99.0234375%\n",
      "Validation cost = 479.42047119140625 - Validation accuracy = 98.39901477832512%\n",
      "Epoch N°: 11 - Batch N°: 145\n",
      "Training cost = 162.55860900878906 - Training accuracy = 99.21875%\n",
      "Validation cost = 478.7840881347656 - Validation accuracy = 98.52216748768473%\n",
      "Epoch N°: 11 - Batch N°: 150\n",
      "Training cost = 155.61032104492188 - Training accuracy = 99.4140625%\n",
      "Validation cost = 478.6526794433594 - Validation accuracy = 98.52216748768473%\n",
      "Epoch N°: 11 - Batch N°: 155\n",
      "Training cost = 110.62149047851562 - Training accuracy = 99.71910112359551%\n",
      "Validation cost = 477.39764404296875 - Validation accuracy = 99.01477832512316%\n",
      "Epoch N°: 12 - Batch N°: 160\n",
      "Training cost = 157.05848693847656 - Training accuracy = 99.4140625%\n",
      "Validation cost = 476.3991394042969 - Validation accuracy = 99.13793103448276%\n",
      "Epoch N°: 12 - Batch N°: 165\n",
      "Training cost = 153.42636108398438 - Training accuracy = 99.21875%\n",
      "Validation cost = 477.2862548828125 - Validation accuracy = 99.13793103448276%\n",
      "Epoch N°: 13 - Batch N°: 170\n",
      "Training cost = 152.80191040039062 - Training accuracy = 99.4140625%\n",
      "Validation cost = 477.7521057128906 - Validation accuracy = 98.76847290640394%\n",
      "Epoch N°: 13 - Batch N°: 175\n",
      "Training cost = 159.86349487304688 - Training accuracy = 98.4375%\n",
      "Validation cost = 477.4518127441406 - Validation accuracy = 98.89162561576354%\n",
      "Epoch N°: 13 - Batch N°: 180\n",
      "Training cost = 159.58705139160156 - Training accuracy = 99.8046875%\n",
      "Validation cost = 477.2489929199219 - Validation accuracy = 98.64532019704434%\n",
      "Epoch N°: 14 - Batch N°: 185\n",
      "Training cost = 152.2100830078125 - Training accuracy = 99.4140625%\n",
      "Validation cost = 478.0918884277344 - Validation accuracy = 98.52216748768473%\n",
      "Epoch N°: 14 - Batch N°: 190\n",
      "Training cost = 140.8846435546875 - Training accuracy = 98.828125%\n",
      "Validation cost = 477.6617126464844 - Validation accuracy = 98.64532019704434%\n",
      "Epoch N°: 15 - Batch N°: 195\n",
      "Training cost = 172.82803344726562 - Training accuracy = 99.21875%\n",
      "Validation cost = 477.15869140625 - Validation accuracy = 98.89162561576354%\n",
      "Epoch N°: 15 - Batch N°: 200\n",
      "Training cost = 150.76898193359375 - Training accuracy = 99.609375%\n",
      "Validation cost = 476.54095458984375 - Validation accuracy = 99.13793103448276%\n",
      "Epoch N°: 15 - Batch N°: 205\n",
      "Training cost = 154.8000946044922 - Training accuracy = 98.828125%\n",
      "Validation cost = 477.6069641113281 - Validation accuracy = 98.76847290640394%\n",
      "Epoch N°: 16 - Batch N°: 210\n",
      "Training cost = 154.88967895507812 - Training accuracy = 99.4140625%\n",
      "Validation cost = 478.884521484375 - Validation accuracy = 98.52216748768473%\n",
      "Epoch N°: 16 - Batch N°: 215\n",
      "Training cost = 163.7708740234375 - Training accuracy = 99.21875%\n",
      "Validation cost = 477.51702880859375 - Validation accuracy = 98.64532019704434%\n",
      "Epoch N°: 16 - Batch N°: 220\n",
      "Training cost = 84.78003692626953 - Training accuracy = 99.15730337078652%\n",
      "Validation cost = 478.3136901855469 - Validation accuracy = 98.52216748768473%\n",
      "Epoch N°: 17 - Batch N°: 225\n",
      "Training cost = 162.3522491455078 - Training accuracy = 99.8046875%\n",
      "Validation cost = 477.7789611816406 - Validation accuracy = 98.64532019704434%\n",
      "Epoch N°: 17 - Batch N°: 230\n",
      "Training cost = 147.1534881591797 - Training accuracy = 99.8046875%\n",
      "Validation cost = 477.3465270996094 - Validation accuracy = 98.64532019704434%\n",
      "Epoch N°: 18 - Batch N°: 235\n",
      "Training cost = 161.69259643554688 - Training accuracy = 100.0%\n"
     ]
    },
    {
     "name": "stdout",
     "output_type": "stream",
     "text": [
      "Validation cost = 478.62548828125 - Validation accuracy = 98.52216748768473%\n",
      "Epoch N°: 18 - Batch N°: 240\n",
      "Training cost = 159.67002868652344 - Training accuracy = 98.828125%\n",
      "Validation cost = 476.62481689453125 - Validation accuracy = 99.01477832512316%\n",
      "Epoch N°: 18 - Batch N°: 245\n",
      "Training cost = 145.71426391601562 - Training accuracy = 99.21875%\n",
      "Validation cost = 477.8223571777344 - Validation accuracy = 98.64532019704434%\n",
      "Epoch N°: 19 - Batch N°: 250\n",
      "Training cost = 159.539306640625 - Training accuracy = 99.4140625%\n",
      "Validation cost = 478.733154296875 - Validation accuracy = 98.52216748768473%\n",
      "Epoch N°: 19 - Batch N°: 255\n",
      "Training cost = 143.59945678710938 - Training accuracy = 99.609375%\n",
      "Validation cost = 476.5534362792969 - Validation accuracy = 99.01477832512316%\n"
     ]
    }
   ],
   "source": [
    "tf.summary.scalar(\"Cost\", cost)\n",
    "tf.summary.histogram(\"fully_connected_1\", fully_connected_1)\n",
    "tf.summary.histogram(\"output_layer\", output_layer)\n",
    "\n",
    "with tf.Session() as sess:\n",
    "    sess.run(init)\n",
    "    merged_summary = tf.summary.merge_all()\n",
    "    \n",
    "    # Handle old tensorboard file with same hyperparameters\n",
    "    tensorboard_job_name = \"{}-{}-{}-lr_{}-e_{}-b_{}\".format(hidden_1_units, hidden_2_units, hidden_3_units,\n",
    "                                                             learning_rate, epochs, batch_size)\n",
    "    tensorboard_log_dir = Path(Path.cwd(), \"tensorboard_logs\", tensorboard_job_name)\n",
    "    writer = tf.summary.FileWriter(\"./tensorboard_logs/{}\".format(tensorboard_job_name))\n",
    "    if len(list(tensorboard_log_dir.iterdir())) > 0:\n",
    "        for file in list(tensorboard_log_dir.iterdir()):\n",
    "            file.unlink()\n",
    "    \n",
    "    writer.add_graph(tf.get_default_graph())\n",
    "    \n",
    "    training_steps = 0\n",
    "    for e in range(epochs):\n",
    "        \n",
    "        for training_data_batch, training_labels_batch in training_iterator:\n",
    "            \n",
    "            if training_steps%5 == 0:\n",
    "                \n",
    "                output, batch_cost = sess.run([output_layer, cost], feed_dict={x: training_data_batch,\n",
    "                                                                               y: training_labels_batch})\n",
    "                \n",
    "                predictions = output > 0.5\n",
    "                accuracy = np.sum(training_labels_batch == predictions) / training_labels_batch.shape[0]\n",
    "                \n",
    "                validation_output, validation_cost = sess.run([output_layer, cost], feed_dict={x: validation_data,\n",
    "                                                                                               y: validation_labels})\n",
    "                validation_predictions = validation_output > 0.5\n",
    "                validation_accuracy = np.sum(validation_labels == validation_predictions) / validation_labels.shape[0]\n",
    "                \n",
    "                print(\"Epoch N°: {} - Batch N°: {}\\n\"\n",
    "                      \"Training cost = {} - Training accuracy = {}%\\n\"\n",
    "                      \"Validation cost = {} - Validation accuracy = {}%\".format(e, training_steps, batch_cost, accuracy * 100,\n",
    "                                                                               validation_cost, validation_accuracy * 100))\n",
    "            \n",
    "            s = sess.run(merged_summary, feed_dict={x: training_data_batch, y: training_labels_batch})\n",
    "            writer.add_summary(s, training_steps)\n",
    "            training_steps += 1\n",
    "            \n",
    "            sess.run(train, feed_dict={x: training_data_batch, y: training_labels_batch})"
   ]
  },
  {
   "cell_type": "markdown",
   "metadata": {},
   "source": [
    "## Tensorboard\n",
    "\n",
    "To use tensorboard open a console, go to the project folder (`\"mushrooms\"`) type:\n",
    "\n",
    "```bash\n",
    "tensorboard --logdir tensoboard_logs\\\n",
    "```"
   ]
  },
  {
   "cell_type": "markdown",
   "metadata": {},
   "source": [
    "### Tensoboard results\n",
    "\n",
    "![output_layer_histograms](output_layer_histograms.png)\n",
    "![graph](graph.png)"
   ]
  }
 ],
 "metadata": {
  "kernelspec": {
   "display_name": "Python 3",
   "language": "python",
   "name": "python3"
  },
  "language_info": {
   "codemirror_mode": {
    "name": "ipython",
    "version": 3
   },
   "file_extension": ".py",
   "mimetype": "text/x-python",
   "name": "python",
   "nbconvert_exporter": "python",
   "pygments_lexer": "ipython3",
   "version": "3.6.5"
  }
 },
 "nbformat": 4,
 "nbformat_minor": 2
}
