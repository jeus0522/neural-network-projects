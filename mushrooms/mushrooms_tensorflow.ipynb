{
 "cells": [
  {
   "cell_type": "markdown",
   "metadata": {},
   "source": [
    "# Mushrooms classification - Tensorflow\n",
    "\n",
    "This notebook is used to build and train a binary classification neural network. We will train it for the [Kaggle - Mushroom Classification](https://www.kaggle.com/uciml/mushroom-classification) project. The data should be already processed and saved to .npy files. See the `mushrooms_data_preparation.ipynb` notebook from this repository to process the data."
   ]
  },
  {
   "cell_type": "markdown",
   "metadata": {},
   "source": [
    "### Import used modules\n",
    "\n",
    "The only external modules used for this notebook are [numpy](http://www.numpy.org/), [tensorflow](https://www.tensorflow.org/), and [matplotlib](https://matplotlib.org/)."
   ]
  },
  {
   "cell_type": "code",
   "execution_count": 1,
   "metadata": {},
   "outputs": [],
   "source": [
    "%matplotlib inline\n",
    "\n",
    "import sys\n",
    "from pathlib import Path\n",
    "\n",
    "import numpy as np\n",
    "import tensorflow as tf\n",
    "import matplotlib.pyplot as plt\n",
    "\n",
    "SCRIPT_DIR = Path.cwd()\n",
    "sys.path.append(str(SCRIPT_DIR.parent))\n",
    "\n",
    "from data_utils.data_iterator import DataIterator"
   ]
  },
  {
   "cell_type": "markdown",
   "metadata": {},
   "source": [
    "## Load the processed data\n",
    "\n",
    "First we need to load the processed data. This files are loaded as numpy arrays."
   ]
  },
  {
   "cell_type": "code",
   "execution_count": 2,
   "metadata": {},
   "outputs": [],
   "source": [
    "training_data = np.load(open(\"training_data/mushrooms_training_data.npy\", 'rb'))\n",
    "training_labels = np.load(open(\"training_data/mushrooms_training_labels.npy\", 'rb'))\n",
    "validation_data = np.load(open(\"training_data/mushrooms_validation_data.npy\", 'rb'))\n",
    "validation_labels = np.load(open(\"training_data/mushrooms_validation_labels.npy\", 'rb'))\n",
    "test_data = np.load(open(\"training_data/mushrooms_test_data.npy\", 'rb'))\n",
    "test_labels = np.load(open(\"training_data/mushrooms_test_labels.npy\", 'rb'))"
   ]
  },
  {
   "cell_type": "markdown",
   "metadata": {},
   "source": [
    "Print data type and arrays shapes."
   ]
  },
  {
   "cell_type": "code",
   "execution_count": 3,
   "metadata": {},
   "outputs": [
    {
     "name": "stdout",
     "output_type": "stream",
     "text": [
      "Loaded data type = <class 'numpy.ndarray'>\n",
      "Training data shape = (6500, 117)\n",
      "Training labels shape = (6500, 1)\n",
      "Validation data shape = (812, 117)\n",
      "Validation labels shape = (812, 1)\n",
      "Test data shape = (812, 117)\n",
      "Test labels shape = (812, 1)\n"
     ]
    }
   ],
   "source": [
    "print(\"Loaded data type = {}\".format(type(training_data)))\n",
    "print(\"Training data shape = {}\".format(training_data.shape))\n",
    "print(\"Training labels shape = {}\".format(training_labels.shape))\n",
    "print(\"Validation data shape = {}\".format(validation_data.shape))\n",
    "print(\"Validation labels shape = {}\".format(validation_labels.shape))\n",
    "print(\"Test data shape = {}\".format(test_data.shape))\n",
    "print(\"Test labels shape = {}\".format(test_labels.shape))"
   ]
  },
  {
   "cell_type": "markdown",
   "metadata": {},
   "source": [
    "## Create model\n",
    "\n",
    "Now we will define our neural network model. We will create a tensorflow graph that we can later train. This graph should have:\n",
    "- **Placeholders**: These are the model inputs. When training or evaluating the model, we will feed the graph through this operations with out data.\n",
    "- **Hidden layers**: In this model we will use a stack of [fully connected layers](https://www.tensorflow.org/api_docs/python/tf/layers/dense). The number, size and activation function of this layers can be changed from the model parameters variables.\n",
    "- **Output layer**: We will use a fully connected layer, with size 1 (one neuron) and a [sigmoid](https://en.wikipedia.org/wiki/Sigmoid_function) activation function (the standart output function for binary classification).\n",
    "- **Cost computation**: We need a tensorflow operation to calculate the cost of the current model prediction, with respect to the real labels. We will use the [logarithmic loss](https://datawookie.netlify.com/blog/2015/12/making-sense-of-logarithmic-loss/) for this task.\n",
    "- **Training operations**: This tensorflow operations will be used to perform one training step (gradients calculation and parameters update) so the model decrease the cost.\n",
    "- **Summaries**: We will add [Tensorboard](https://www.tensorflow.org/guide/summaries_and_tensorboard) summaries to vizualize the model graph (architecture), the training process, and some parameters of the model.\n",
    "- **Metrics**: We will add operations to check the performance of the model with respect to the true labels we are trying to predict."
   ]
  },
  {
   "cell_type": "markdown",
   "metadata": {},
   "source": [
    "### Model parameters\n",
    "\n",
    "This parameters are used to easily change the model architecture to try different configurations and find the best for our specific task."
   ]
  },
  {
   "cell_type": "code",
   "execution_count": 4,
   "metadata": {},
   "outputs": [],
   "source": [
    "# Parameters\n",
    "fully_connected_layers = 3\n",
    "fully_connected_size = 50\n",
    "fully_connected_activation = tf.nn.relu"
   ]
  },
  {
   "cell_type": "markdown",
   "metadata": {},
   "source": [
    "### Create placeholders\n",
    "\n",
    "The placeholders are created using the data shapes. The first dimension is `None`, because this is the batch size, and we want to change it for different runs."
   ]
  },
  {
   "cell_type": "code",
   "execution_count": 5,
   "metadata": {},
   "outputs": [
    {
     "name": "stdout",
     "output_type": "stream",
     "text": [
      "Tensor(\"inputs:0\", shape=(?, 117), dtype=float32)\n",
      "Tensor(\"labels:0\", shape=(?, 1), dtype=float32)\n",
      "Tensor(\"learning_rate:0\", shape=(), dtype=float32)\n",
      "<tf.Variable 'global_step:0' shape=() dtype=int32_ref>\n"
     ]
    }
   ],
   "source": [
    "# Data inputs\n",
    "x = tf.placeholder(dtype=tf.float32, shape=[None, training_data.shape[1]], name=\"inputs\")\n",
    "print(x)\n",
    "# Labels inputs\n",
    "y = tf.placeholder(dtype=tf.float32, shape=[None, 1], name=\"labels\")\n",
    "print(y)\n",
    "\n",
    "# Learning rate input\n",
    "learning_rate_input = tf.placeholder(dtype=tf.float32, shape=[], name=\"learning_rate\")\n",
    "print(learning_rate_input)\n",
    "\n",
    "# Used in training to keep track of variables updates\n",
    "global_step = tf.get_variable(name=\"global_step\",\n",
    "                              shape=[],\n",
    "                              dtype=tf.int32,\n",
    "                              initializer=tf.constant_initializer(0),\n",
    "                              trainable=False)\n",
    "print(global_step)"
   ]
  },
  {
   "cell_type": "markdown",
   "metadata": {},
   "source": [
    "### Create hidden layers"
   ]
  },
  {
   "cell_type": "code",
   "execution_count": 6,
   "metadata": {},
   "outputs": [],
   "source": [
    "dense_layers = fully_connected_layers\n",
    "\n",
    "# Create first dense layer\n",
    "# Shape: (batch_size, fully_connected_size)\n",
    "dense = tf.layers.dense(x,\n",
    "                        units=fully_connected_size,\n",
    "                        activation=fully_connected_activation,\n",
    "                        name=\"dense_1\")\n",
    "\n",
    "dense_layers -= 1\n",
    "dense_layer_count = 2\n",
    "\n",
    "# Create next dense layers\n",
    "for i in range(dense_layers):\n",
    "    # Shape: (batch_size, fully_connected_size)\n",
    "    dense = tf.layers.dense(dense,\n",
    "                            units=fully_connected_size,\n",
    "                            activation=fully_connected_activation,\n",
    "                            name=\"dense_{}\".format(dense_layer_count))\n",
    "\n",
    "    dense_layer_count += 1"
   ]
  },
  {
   "cell_type": "markdown",
   "metadata": {},
   "source": [
    "### Create output layer"
   ]
  },
  {
   "cell_type": "code",
   "execution_count": 7,
   "metadata": {},
   "outputs": [],
   "source": [
    "# Shape: (batch_size, 1)\n",
    "output_layer = tf.layers.dense(dense, \n",
    "                               units=1, \n",
    "                               activation=tf.nn.sigmoid,\n",
    "                               name=\"output\")"
   ]
  },
  {
   "cell_type": "markdown",
   "metadata": {},
   "source": [
    "### Cost and Optimizer\n",
    "\n",
    "Now we create the tensorflow operations to calculate the cost of the model and perform one training step. We will use gradient descent to optimize our model."
   ]
  },
  {
   "cell_type": "code",
   "execution_count": 8,
   "metadata": {},
   "outputs": [],
   "source": [
    "with tf.variable_scope(\"cost_and_optimizer\"):\n",
    "    \n",
    "    # Loss value for the model output of each data point fed to the graph\n",
    "    # Shape: (batch_size, 1)\n",
    "    loss_op = tf.nn.sigmoid_cross_entropy_with_logits(labels=y,\n",
    "                                                      logits=output_layer,\n",
    "                                                      name=\"loss_op\")\n",
    "    \n",
    "    # Cost value for all the data points fed to the model\n",
    "    # Shape: ()\n",
    "    cost = tf.reduce_sum(loss_op, name=\"cost\")\n",
    "    \n",
    "    # Model optimizer\n",
    "    optimizer = tf.train.GradientDescentOptimizer(learning_rate=learning_rate_input,\n",
    "                                                 name=\"gradient_descent_optimizer\")\n",
    "    \n",
    "    # Trining operation. Perform one parameters update. Increment global_step by 1.\n",
    "    training_op = optimizer.minimize(cost, global_step=global_step)"
   ]
  },
  {
   "cell_type": "markdown",
   "metadata": {},
   "source": [
    "### Model metrics"
   ]
  },
  {
   "cell_type": "code",
   "execution_count": 9,
   "metadata": {},
   "outputs": [],
   "source": [
    "# The model ouputs a value between 0 and 1. We need to transform \n",
    "# it to the predicted label (0 or 1)\n",
    "predictions = tf.round(output_layer, name=\"predictions\")\n",
    "\n",
    "# Metrics\n",
    "with tf.name_scope(\"metrics\"):\n",
    "    # Get the model accuracy.\n",
    "    accuracy = tf.metrics.accuracy(labels=y,\n",
    "                                   predictions=predictions,\n",
    "                                   name=\"accuracy\")"
   ]
  },
  {
   "cell_type": "markdown",
   "metadata": {},
   "source": [
    "### Tensorboard summaries"
   ]
  },
  {
   "cell_type": "code",
   "execution_count": 10,
   "metadata": {},
   "outputs": [],
   "source": [
    "tensorboard_logs_dir = Path(Path.cwd(), \"tensorboard_logs\")\n",
    "tensorboard_logs_dir.mkdir(exist_ok=True)\n",
    "\n",
    "with tf.name_scope(\"summaries\"):\n",
    "    tf.summary.scalar(\"cost\", cost)\n",
    "    tf.summary.scalar(\"accuracy\", accuracy[0])\n",
    "    tf.summary.histogram(\"output_layer\", output_layer)\n",
    "    summary_op = tf.summary.merge_all()"
   ]
  },
  {
   "cell_type": "markdown",
   "metadata": {
    "collapsed": true
   },
   "source": [
    "## Model training\n",
    "\n",
    "Now it's time to train the model!\n",
    "\n",
    "We will feed the data to the graph, one batch at a time. We will perform a parameters update each time we feed a batch ([mini batch gradient descent](https://machinelearningmastery.com/gentle-introduction-mini-batch-gradient-descent-configure-batch-size/)).\n",
    "\n",
    "Every some training steps, we will evaluate the model on the validation data, to check how the model is performing on data not used for training."
   ]
  },
  {
   "cell_type": "markdown",
   "metadata": {},
   "source": [
    "### Training hyperparameters\n",
    "\n",
    "These are the hyperparameters we need to tune in order to get the model and training to work. Try different values to see how the training and model performance change."
   ]
  },
  {
   "cell_type": "code",
   "execution_count": 11,
   "metadata": {},
   "outputs": [],
   "source": [
    "# Hyperparameters\n",
    "epochs = 20\n",
    "batch_size = 128\n",
    "learning_rate = 0.001"
   ]
  },
  {
   "cell_type": "markdown",
   "metadata": {},
   "source": [
    "### Create lists of batchs\n",
    "\n",
    "The batches are generated using the DataIterator of this repository. It outputs a batch of the required size at a time. It can shuffle the data before creating the batches, so the composition of each batch is different for each epoch (full pass over the entire training data)."
   ]
  },
  {
   "cell_type": "code",
   "execution_count": 12,
   "metadata": {},
   "outputs": [],
   "source": [
    "training_iterator = DataIterator(data=training_data,\n",
    "                                 labels=training_labels,\n",
    "                                 batch_size=batch_size,\n",
    "                                 shuffle=True)\n",
    "\n",
    "validation_iterator = DataIterator(data=validation_data,\n",
    "                                   labels=validation_labels,\n",
    "                                   batch_size=batch_size,\n",
    "                                   shuffle=True)"
   ]
  },
  {
   "cell_type": "markdown",
   "metadata": {},
   "source": [
    "### Training operations\n",
    "\n",
    "Now that we have the model graph, the training operations, and the data batch generators, we can train the model."
   ]
  },
  {
   "cell_type": "code",
   "execution_count": 13,
   "metadata": {},
   "outputs": [],
   "source": [
    "## Useful variables\n",
    "# Validate the model every some global steps and print information\n",
    "val_period = 10\n",
    "# Save the model to file every some global steps\n",
    "save_period = 20"
   ]
  },
  {
   "cell_type": "code",
   "execution_count": 14,
   "metadata": {},
   "outputs": [
    {
     "name": "stdout",
     "output_type": "stream",
     "text": [
      "Epoch 0 - Global step 0 - Training cost 88.29049682617188 - Training accuracy 0.0 - Validation cost 101.6217041015625 - Validation accuracy 0.6033030237470355\n",
      "Model saved in path: trained_models/model.ckpt\n",
      "Epoch 0 - Global step 10 - Training cost 83.63156127929688 - Training accuracy 0.5798279047012329 - Validation cost 100.36186000279018 - Validation accuracy 0.6044254984174456\n",
      "Epoch 0 - Global step 20 - Training cost 86.93855285644531 - Training accuracy 0.5994263887405396 - Validation cost 99.271728515625 - Validation accuracy 0.6167315755571637\n",
      "Model saved in path: trained_models/model.ckpt\n",
      "Epoch 0 - Global step 30 - Training cost 83.452392578125 - Training accuracy 0.6139260530471802 - Validation cost 97.94164167131696 - Validation accuracy 0.6242053849356515\n",
      "Epoch 0 - Global step 40 - Training cost 81.05340576171875 - Training accuracy 0.629421591758728 - Validation cost 96.84809221540179 - Validation accuracy 0.6374585969107491\n",
      "Model saved in path: trained_models/model.ckpt\n",
      "Epoch 0 - Global step 50 - Training cost 66.90737915039062 - Training accuracy 0.6547800898551941 - Validation cost 95.35609654017857 - Validation accuracy 0.6625902993338448\n",
      "Epoch 1 - Global step 60 - Training cost 80.08660888671875 - Training accuracy 0.6857234239578247 - Validation cost 92.25173514229911 - Validation accuracy 0.6924473898751395\n",
      "Model saved in path: trained_models/model.ckpt\n",
      "Epoch 1 - Global step 70 - Training cost 72.8176040649414 - Training accuracy 0.713943600654602 - Validation cost 90.04987444196429 - Validation accuracy 0.7202159336635044\n",
      "Epoch 1 - Global step 80 - Training cost 75.06391906738281 - Training accuracy 0.739346444606781 - Validation cost 86.24564906529018 - Validation accuracy 0.7445150102887835\n",
      "Model saved in path: trained_models/model.ckpt\n",
      "Epoch 1 - Global step 90 - Training cost 72.82056427001953 - Training accuracy 0.7605319023132324 - Validation cost 82.95918491908482 - Validation accuracy 0.7648874010358538\n",
      "Epoch 1 - Global step 100 - Training cost 70.3739242553711 - Training accuracy 0.7781926393508911 - Validation cost 80.52798897879464 - Validation accuracy 0.7817572184971401\n",
      "Model saved in path: trained_models/model.ckpt\n",
      "Epoch 2 - Global step 110 - Training cost 66.05320739746094 - Training accuracy 0.7922983169555664 - Validation cost 79.13995361328125 - Validation accuracy 0.7954010282244001\n",
      "Epoch 2 - Global step 120 - Training cost 67.62641143798828 - Training accuracy 0.8057729005813599 - Validation cost 77.91094970703125 - Validation accuracy 0.8084931373596191\n",
      "Model saved in path: trained_models/model.ckpt\n",
      "Epoch 2 - Global step 130 - Training cost 64.08966064453125 - Training accuracy 0.8170965313911438 - Validation cost 77.18329729352679 - Validation accuracy 0.8196404320853097\n",
      "Epoch 2 - Global step 140 - Training cost 66.69520568847656 - Training accuracy 0.8270046710968018 - Validation cost 76.600830078125 - Validation accuracy 0.8291034698486328\n",
      "Model saved in path: trained_models/model.ckpt\n",
      "Epoch 2 - Global step 150 - Training cost 64.1320571899414 - Training accuracy 0.8358128070831299 - Validation cost 76.12523542131696 - Validation accuracy 0.8377184867858887\n",
      "Epoch 3 - Global step 160 - Training cost 70.07366943359375 - Training accuracy 0.8436564207077026 - Validation cost 75.79860142299107 - Validation accuracy 0.8453576224190849\n",
      "Model saved in path: trained_models/model.ckpt\n",
      "Epoch 3 - Global step 170 - Training cost 62.60504913330078 - Training accuracy 0.8506200909614563 - Validation cost 75.56126185825893 - Validation accuracy 0.8523740087236676\n",
      "Epoch 3 - Global step 180 - Training cost 64.07882690429688 - Training accuracy 0.8573938012123108 - Validation cost 75.33707972935268 - Validation accuracy 0.8589047023228237\n",
      "Model saved in path: trained_models/model.ckpt\n",
      "Epoch 3 - Global step 190 - Training cost 62.298553466796875 - Training accuracy 0.8634530305862427 - Validation cost 75.15401785714286 - Validation accuracy 0.8648544720241002\n",
      "Epoch 3 - Global step 200 - Training cost 64.7249755859375 - Training accuracy 0.868976891040802 - Validation cost 75.05320521763393 - Validation accuracy 0.8702457972935268\n",
      "Model saved in path: trained_models/model.ckpt\n",
      "Epoch 4 - Global step 210 - Training cost 61.00316619873047 - Training accuracy 0.8740757703781128 - Validation cost 74.86392647879464 - Validation accuracy 0.8753076280866351\n",
      "Epoch 4 - Global step 220 - Training cost 63.85743713378906 - Training accuracy 0.8790294528007507 - Validation cost 74.76844133649554 - Validation accuracy 0.8800959587097168\n",
      "Model saved in path: trained_models/model.ckpt\n",
      "Epoch 4 - Global step 230 - Training cost 64.39547729492188 - Training accuracy 0.8835513591766357 - Validation cost 74.70921979631696 - Validation accuracy 0.8845804078238351\n",
      "Epoch 4 - Global step 240 - Training cost 60.6016960144043 - Training accuracy 0.8876756429672241 - Validation cost 74.67914690290179 - Validation accuracy 0.8886574336460659\n",
      "Model saved in path: trained_models/model.ckpt\n",
      "Epoch 4 - Global step 250 - Training cost 60.55335998535156 - Training accuracy 0.891507625579834 - Validation cost 74.57761056082589 - Validation accuracy 0.8923264912196568\n",
      "Epoch 5 - Global step 260 - Training cost 61.866214752197266 - Training accuracy 0.8950269222259521 - Validation cost 74.48086111886161 - Validation accuracy 0.895904677254813\n",
      "Model saved in path: trained_models/model.ckpt\n",
      "Epoch 5 - Global step 270 - Training cost 61.736732482910156 - Training accuracy 0.8985339999198914 - Validation cost 74.42946951729911 - Validation accuracy 0.8992602484566825\n",
      "Epoch 5 - Global step 280 - Training cost 59.23896789550781 - Training accuracy 0.9016702175140381 - Validation cost 74.41570172991071 - Validation accuracy 0.9023823056902204\n",
      "Model saved in path: trained_models/model.ckpt\n",
      "Epoch 5 - Global step 290 - Training cost 62.050933837890625 - Training accuracy 0.9046887159347534 - Validation cost 74.42959158761161 - Validation accuracy 0.9052996635437012\n",
      "Epoch 5 - Global step 300 - Training cost 68.76251220703125 - Training accuracy 0.9074097871780396 - Validation cost 74.35580880301339 - Validation accuracy 0.9079672268458775\n",
      "Model saved in path: trained_models/model.ckpt\n",
      "Epoch 6 - Global step 310 - Training cost 61.506595611572266 - Training accuracy 0.9099313616752625 - Validation cost 74.25242396763393 - Validation accuracy 0.9104995727539062\n",
      "Epoch 6 - Global step 320 - Training cost 63.345924377441406 - Training accuracy 0.9124385714530945 - Validation cost 74.21531459263393 - Validation accuracy 0.9129766055515834\n",
      "Model saved in path: trained_models/model.ckpt\n",
      "Epoch 6 - Global step 330 - Training cost 62.64025115966797 - Training accuracy 0.9146918654441833 - Validation cost 74.23598807198661 - Validation accuracy 0.9151640619550433\n",
      "Epoch 6 - Global step 340 - Training cost 61.771148681640625 - Training accuracy 0.9167981743812561 - Validation cost 74.15550885881696 - Validation accuracy 0.9172954559326172\n",
      "Model saved in path: trained_models/model.ckpt\n",
      "Epoch 6 - Global step 350 - Training cost 63.3494873046875 - Training accuracy 0.9188796877861023 - Validation cost 74.14481026785714 - Validation accuracy 0.9193076406206403\n",
      "Epoch 7 - Global step 360 - Training cost 60.02928924560547 - Training accuracy 0.9208158254623413 - Validation cost 74.12494768415179 - Validation accuracy 0.9212322235107422\n",
      "Model saved in path: trained_models/model.ckpt\n",
      "Epoch 7 - Global step 370 - Training cost 60.50230407714844 - Training accuracy 0.9226763844490051 - Validation cost 74.04645647321429 - Validation accuracy 0.9230492455618722\n",
      "Epoch 7 - Global step 380 - Training cost 60.942893981933594 - Training accuracy 0.924426257610321 - Validation cost 74.06312779017857 - Validation accuracy 0.9247619083949498\n",
      "Model saved in path: trained_models/model.ckpt\n",
      "Epoch 7 - Global step 390 - Training cost 60.38331604003906 - Training accuracy 0.9260861277580261 - Validation cost 74.06474086216518 - Validation accuracy 0.9264465740748814\n",
      "Epoch 7 - Global step 400 - Training cost 59.77375411987305 - Training accuracy 0.9276867508888245 - Validation cost 73.97367640904018 - Validation accuracy 0.9280199323381696\n",
      "Model saved in path: trained_models/model.ckpt\n",
      "Epoch 8 - Global step 410 - Training cost 62.8902587890625 - Training accuracy 0.9291742444038391 - Validation cost 74.04067557198661 - Validation accuracy 0.9294723783220563\n",
      "Epoch 8 - Global step 420 - Training cost 59.97484588623047 - Training accuracy 0.9306138753890991 - Validation cost 73.92218889508929 - Validation accuracy 0.9309257098606655\n"
     ]
    },
    {
     "name": "stdout",
     "output_type": "stream",
     "text": [
      "Model saved in path: trained_models/model.ckpt\n",
      "Epoch 8 - Global step 430 - Training cost 57.03033447265625 - Training accuracy 0.9320086240768433 - Validation cost 73.87392752511161 - Validation accuracy 0.9323006357465472\n",
      "Epoch 8 - Global step 440 - Training cost 60.84721374511719 - Training accuracy 0.9333289861679077 - Validation cost 73.94921003069196 - Validation accuracy 0.9335900715419224\n",
      "Model saved in path: trained_models/model.ckpt\n",
      "Epoch 8 - Global step 450 - Training cost 63.48727035522461 - Training accuracy 0.9345798492431641 - Validation cost 73.86497279575893 - Validation accuracy 0.9348085948399135\n",
      "Epoch 9 - Global step 460 - Training cost 62.35741424560547 - Training accuracy 0.9357678890228271 - Validation cost 73.89944893973214 - Validation accuracy 0.9359884943280902\n",
      "Model saved in path: trained_models/model.ckpt\n",
      "Epoch 9 - Global step 470 - Training cost 59.17432403564453 - Training accuracy 0.9369239211082458 - Validation cost 73.90342494419643 - Validation accuracy 0.9371642385210309\n",
      "Epoch 9 - Global step 480 - Training cost 61.409217834472656 - Training accuracy 0.938041627407074 - Validation cost 73.88440813337054 - Validation accuracy 0.9382655961172921\n",
      "Model saved in path: trained_models/model.ckpt\n",
      "Epoch 9 - Global step 490 - Training cost 60.888526916503906 - Training accuracy 0.9390842318534851 - Validation cost 73.82602364676339 - Validation accuracy 0.9393012864249093\n",
      "Epoch 9 - Global step 500 - Training cost 59.37012481689453 - Training accuracy 0.9400947093963623 - Validation cost 73.90214320591518 - Validation accuracy 0.9403025082179478\n",
      "Model saved in path: trained_models/model.ckpt\n",
      "Epoch 10 - Global step 510 - Training cost 64.35052490234375 - Training accuracy 0.9410592913627625 - Validation cost 73.81094796316964 - Validation accuracy 0.9412584986005511\n",
      "Epoch 10 - Global step 520 - Training cost 61.6547966003418 - Training accuracy 0.9419929385185242 - Validation cost 73.79566301618304 - Validation accuracy 0.9421826090131488\n",
      "Model saved in path: trained_models/model.ckpt\n",
      "Epoch 10 - Global step 530 - Training cost 62.81233596801758 - Training accuracy 0.9428912401199341 - Validation cost 73.74970354352679 - Validation accuracy 0.943073204585484\n",
      "Epoch 10 - Global step 540 - Training cost 62.99075698852539 - Training accuracy 0.9437828063964844 - Validation cost 73.86797223772321 - Validation accuracy 0.9439435686383929\n",
      "Model saved in path: trained_models/model.ckpt\n",
      "Epoch 10 - Global step 550 - Training cost 62.910865783691406 - Training accuracy 0.9446157813072205 - Validation cost 73.74362618582589 - Validation accuracy 0.9447946548461914\n",
      "Epoch 10 - Global step 560 - Training cost 45.96125793457031 - Training accuracy 0.9454531669616699 - Validation cost 73.71439906529018 - Validation accuracy 0.9455976486206055\n",
      "Model saved in path: trained_models/model.ckpt\n",
      "Epoch 11 - Global step 570 - Training cost 61.85443878173828 - Training accuracy 0.9462231993675232 - Validation cost 73.75384521484375 - Validation accuracy 0.9463878359113421\n",
      "Epoch 11 - Global step 580 - Training cost 59.8677978515625 - Training accuracy 0.9470040202140808 - Validation cost 73.77146693638393 - Validation accuracy 0.9471636499677386\n",
      "Model saved in path: trained_models/model.ckpt\n",
      "Epoch 11 - Global step 590 - Training cost 59.624298095703125 - Training accuracy 0.947725772857666 - Validation cost 73.64908272879464 - Validation accuracy 0.9478577886308942\n",
      "Epoch 11 - Global step 600 - Training cost 58.47673034667969 - Training accuracy 0.9484633803367615 - Validation cost 73.64093889508929 - Validation accuracy 0.9486265182495117\n",
      "Model saved in path: trained_models/model.ckpt\n",
      "Epoch 11 - Global step 610 - Training cost 61.53211212158203 - Training accuracy 0.9491846561431885 - Validation cost 73.71516636439732 - Validation accuracy 0.9493053300040108\n",
      "Epoch 12 - Global step 620 - Training cost 61.34571075439453 - Training accuracy 0.949840784072876 - Validation cost 73.67525809151786 - Validation accuracy 0.9499635696411133\n",
      "Model saved in path: trained_models/model.ckpt\n",
      "Epoch 12 - Global step 630 - Training cost 63.443992614746094 - Training accuracy 0.9505020380020142 - Validation cost 73.64901297433036 - Validation accuracy 0.9506398609706334\n",
      "Epoch 12 - Global step 640 - Training cost 60.820106506347656 - Training accuracy 0.951120138168335 - Validation cost 73.66122872488839 - Validation accuracy 0.9512246676853725\n",
      "Model saved in path: trained_models/model.ckpt\n",
      "Epoch 12 - Global step 650 - Training cost 61.86524200439453 - Training accuracy 0.9517339468002319 - Validation cost 73.63772147042411 - Validation accuracy 0.9518577030726841\n",
      "Epoch 12 - Global step 660 - Training cost 63.41584777832031 - Training accuracy 0.9523436427116394 - Validation cost 73.64985874720982 - Validation accuracy 0.9524632181440081\n",
      "Model saved in path: trained_models/model.ckpt\n",
      "Epoch 13 - Global step 670 - Training cost 62.84463882446289 - Training accuracy 0.9529041647911072 - Validation cost 73.55101667131696 - Validation accuracy 0.9530361720493862\n",
      "Epoch 13 - Global step 680 - Training cost 57.74772644042969 - Training accuracy 0.9534786939620972 - Validation cost 73.69306291852679 - Validation accuracy 0.9535807200840541\n",
      "Model saved in path: trained_models/model.ckpt\n",
      "Epoch 13 - Global step 690 - Training cost 60.36220932006836 - Training accuracy 0.9540157318115234 - Validation cost 73.63956996372768 - Validation accuracy 0.9541340555463519\n",
      "Epoch 13 - Global step 700 - Training cost 61.82448959350586 - Training accuracy 0.9545578956604004 - Validation cost 73.61332484654018 - Validation accuracy 0.9546677725655692\n",
      "Model saved in path: trained_models/model.ckpt\n",
      "Epoch 13 - Global step 710 - Training cost 59.22356033325195 - Training accuracy 0.9550847411155701 - Validation cost 73.59018380301339 - Validation accuracy 0.9551894324166434\n",
      "Epoch 14 - Global step 720 - Training cost 58.10869598388672 - Training accuracy 0.9556019902229309 - Validation cost 73.55928257533482 - Validation accuracy 0.95570250919887\n",
      "Model saved in path: trained_models/model.ckpt\n",
      "Epoch 14 - Global step 730 - Training cost 61.181251525878906 - Training accuracy 0.9561132788658142 - Validation cost 73.55799211774554 - Validation accuracy 0.9562097276960101\n",
      "Epoch 14 - Global step 740 - Training cost 60.02545928955078 - Training accuracy 0.9566107392311096 - Validation cost 73.62448556082589 - Validation accuracy 0.9566986901419503\n",
      "Model saved in path: trained_models/model.ckpt\n",
      "Epoch 14 - Global step 750 - Training cost 60.79204559326172 - Training accuracy 0.9570565223693848 - Validation cost 73.48922293526786 - Validation accuracy 0.9571637426103864\n",
      "Epoch 14 - Global step 760 - Training cost 60.778411865234375 - Training accuracy 0.9575157761573792 - Validation cost 73.54139927455357 - Validation accuracy 0.9576093128749302\n",
      "Model saved in path: trained_models/model.ckpt\n",
      "Epoch 15 - Global step 770 - Training cost 62.225563049316406 - Training accuracy 0.9579619765281677 - Validation cost 73.62559291294643 - Validation accuracy 0.9580396243504116\n",
      "Epoch 15 - Global step 780 - Training cost 64.21360778808594 - Training accuracy 0.9583978652954102 - Validation cost 73.53138078962054 - Validation accuracy 0.9584651674543109\n",
      "Model saved in path: trained_models/model.ckpt\n",
      "Epoch 15 - Global step 790 - Training cost 61.53388214111328 - Training accuracy 0.9588287472724915 - Validation cost 73.53146798270089 - Validation accuracy 0.9589052200317383\n",
      "Epoch 15 - Global step 800 - Training cost 64.89844512939453 - Training accuracy 0.9592308402061462 - Validation cost 73.54254150390625 - Validation accuracy 0.959315299987793\n",
      "Model saved in path: trained_models/model.ckpt\n",
      "Epoch 15 - Global step 810 - Training cost 61.89949035644531 - Training accuracy 0.9596467018127441 - Validation cost 73.47730364118304 - Validation accuracy 0.9597280366080148\n",
      "Epoch 16 - Global step 820 - Training cost 65.232666015625 - Training accuracy 0.9600458145141602 - Validation cost 73.48130580357143 - Validation accuracy 0.9601249694824219\n",
      "Model saved in path: trained_models/model.ckpt\n",
      "Epoch 16 - Global step 830 - Training cost 60.73141860961914 - Training accuracy 0.9604476094245911 - Validation cost 73.48684256417411 - Validation accuracy 0.9605189050946917\n",
      "Epoch 16 - Global step 840 - Training cost 61.51805877685547 - Training accuracy 0.9608283638954163 - Validation cost 73.52760532924107 - Validation accuracy 0.9608936309814453\n",
      "Model saved in path: trained_models/model.ckpt\n"
     ]
    },
    {
     "name": "stdout",
     "output_type": "stream",
     "text": [
      "Epoch 16 - Global step 850 - Training cost 60.02987289428711 - Training accuracy 0.9611945748329163 - Validation cost 73.53520856584821 - Validation accuracy 0.961266108921596\n",
      "Epoch 16 - Global step 860 - Training cost 61.909423828125 - Training accuracy 0.9615577459335327 - Validation cost 73.44234793526786 - Validation accuracy 0.9616274152483258\n",
      "Model saved in path: trained_models/model.ckpt\n",
      "Epoch 17 - Global step 870 - Training cost 60.323402404785156 - Training accuracy 0.9618957042694092 - Validation cost 73.58957345145089 - Validation accuracy 0.9619518007550921\n",
      "Epoch 17 - Global step 880 - Training cost 62.248931884765625 - Training accuracy 0.9622263312339783 - Validation cost 73.48782784598214 - Validation accuracy 0.9622910363333566\n",
      "Model saved in path: trained_models/model.ckpt\n",
      "Epoch 17 - Global step 890 - Training cost 62.20094299316406 - Training accuracy 0.9625657200813293 - Validation cost 73.46403285435268 - Validation accuracy 0.9626401492527553\n",
      "Epoch 17 - Global step 900 - Training cost 59.64136505126953 - Training accuracy 0.9628921747207642 - Validation cost 73.44329833984375 - Validation accuracy 0.9629619462149483\n",
      "Model saved in path: trained_models/model.ckpt\n",
      "Epoch 17 - Global step 910 - Training cost 61.08917999267578 - Training accuracy 0.9632219672203064 - Validation cost 73.45785958426339 - Validation accuracy 0.9632795878819057\n",
      "Epoch 18 - Global step 920 - Training cost 66.03641510009766 - Training accuracy 0.9635288715362549 - Validation cost 73.52439662388393 - Validation accuracy 0.9635828563145229\n",
      "Model saved in path: trained_models/model.ckpt\n",
      "Epoch 18 - Global step 930 - Training cost 60.34159469604492 - Training accuracy 0.9638292789459229 - Validation cost 73.52064732142857 - Validation accuracy 0.9638804027012416\n",
      "Epoch 18 - Global step 940 - Training cost 62.967918395996094 - Training accuracy 0.9641283750534058 - Validation cost 73.42471749441964 - Validation accuracy 0.9641854422433036\n",
      "Model saved in path: trained_models/model.ckpt\n",
      "Epoch 18 - Global step 950 - Training cost 62.219764709472656 - Training accuracy 0.9644262194633484 - Validation cost 73.42764718191964 - Validation accuracy 0.9644797188895089\n",
      "Epoch 18 - Global step 960 - Training cost 59.46452331542969 - Training accuracy 0.9647228717803955 - Validation cost 73.37787737165179 - Validation accuracy 0.964770862034389\n",
      "Model saved in path: trained_models/model.ckpt\n",
      "Epoch 19 - Global step 970 - Training cost 60.389713287353516 - Training accuracy 0.9650035500526428 - Validation cost 73.44691685267857 - Validation accuracy 0.9650594847542899\n",
      "Epoch 19 - Global step 980 - Training cost 60.685604095458984 - Training accuracy 0.9652735590934753 - Validation cost 73.48081752232143 - Validation accuracy 0.9653184754507882\n",
      "Model saved in path: trained_models/model.ckpt\n",
      "Epoch 19 - Global step 990 - Training cost 62.61553955078125 - Training accuracy 0.9655429720878601 - Validation cost 73.36833844866071 - Validation accuracy 0.9655964033944267\n",
      "Epoch 19 - Global step 1000 - Training cost 63.93994140625 - Training accuracy 0.9658213257789612 - Validation cost 73.45162527901786 - Validation accuracy 0.9658756256103516\n",
      "Model saved in path: trained_models/model.ckpt\n",
      "Epoch 19 - Global step 1010 - Training cost 59.172698974609375 - Training accuracy 0.9660751819610596 - Validation cost 73.38692801339286 - Validation accuracy 0.966116087777274\n",
      "Finished 20 epochs!\n"
     ]
    }
   ],
   "source": [
    "# Tensorboard files\n",
    "tensorboard_job_name = \"dl_{}-ds_{}-lr_{}-e_{}-b_{}\".format(fully_connected_layers,\n",
    "                                                            fully_connected_size,\n",
    "                                                            learning_rate,\n",
    "                                                            epochs,\n",
    "                                                            batch_size)\n",
    "tensorboard_log_dir = Path(tensorboard_logs_dir, tensorboard_job_name)\n",
    "\n",
    "# This tensorflow operations are used to initialize all the variables of the model.\n",
    "init_op = tf.global_variables_initializer()\n",
    "init_l_op = tf.local_variables_initializer()\n",
    "\n",
    "global_step_count = 0\n",
    "\n",
    "with tf.Session() as sess:\n",
    "    \n",
    "    # Initialize graph variables\n",
    "    sess.run(init_op)\n",
    "    sess.run(init_l_op)\n",
    "    \n",
    "    # Training and validation Tensorboard files writers\n",
    "    train_writer = tf.summary.FileWriter(str(Path(tensorboard_log_dir, \"train\")),\n",
    "                                         sess.graph)\n",
    "    validation_writer = tf.summary.FileWriter(str(Path(tensorboard_log_dir, \"validation\")),\n",
    "                                              sess.graph)\n",
    "    \n",
    "    # Set up a Saver for periodically serializing the model\n",
    "    saver = tf.train.Saver(max_to_keep=5)\n",
    "    \n",
    "    # Create list to store usefull data\n",
    "    training_costs = []\n",
    "    training_accuracies = []\n",
    "    validation_costs = []\n",
    "    validation_accuracies = []\n",
    "    \n",
    "    # Iterate over the entire data\n",
    "    for epoch in range(epochs):\n",
    "        \n",
    "        # Iterate over a generator that returns batches\n",
    "        for train_batch in training_iterator:\n",
    "            \n",
    "            global_step_count = sess.run(global_step)\n",
    "            \n",
    "            feed_dict = {x: train_batch[0],\n",
    "                         y: train_batch[1],\n",
    "                         learning_rate_input: learning_rate}\n",
    "            \n",
    "            # Do a gradient update, and log results to Tensorboard               \n",
    "            train_cost, train_accuracy, _, train_summary = sess.run(\n",
    "                [cost, accuracy, training_op, summary_op],\n",
    "                feed_dict=feed_dict)\n",
    "            train_writer.add_summary(train_summary, global_step_count)\n",
    "            \n",
    "            training_costs.append(train_cost)\n",
    "            training_accuracies.append(train_accuracy[0])\n",
    "            \n",
    "            # Evaluate the model on validation set every val_period steps\n",
    "            if global_step_count % val_period == 0:\n",
    "                \n",
    "                val_batch_accuracies = []\n",
    "                val_batch_costs = []\n",
    "                \n",
    "                # Evaluate on validation data\n",
    "                for val_batch in validation_iterator:\n",
    "                    \n",
    "                    validation_feed_dict = {x: val_batch[0],\n",
    "                                            y: val_batch[1]}\n",
    "                    \n",
    "                    val_batch_accuracy, val_batch_cost = sess.run(\n",
    "                        [accuracy, cost],\n",
    "                        feed_dict=validation_feed_dict)\n",
    "                    \n",
    "                    val_batch_accuracies.append(np.sum(val_batch_accuracy[0]))\n",
    "                    val_batch_costs.append(np.sum(val_batch_cost))\n",
    "                \n",
    "                mean_val_accuracy = np.sum(np.array(val_batch_accuracies)) / validation_iterator.total_batches\n",
    "                mean_val_cost = np.sum(np.array(val_batch_costs)) / validation_iterator.total_batches\n",
    "                \n",
    "                val_summary = tf.Summary(value=[\n",
    "                    tf.Summary.Value(tag=\"val_summaries/accuracy\",\n",
    "                                     simple_value=mean_val_accuracy),\n",
    "                    tf.Summary.Value(tag=\"val_summaries/cost\",\n",
    "                                     simple_value=mean_val_cost)])\n",
    "                \n",
    "                validation_writer.add_summary(val_summary, global_step_count)\n",
    "                \n",
    "                validation_costs.append(mean_val_cost)\n",
    "                validation_accuracies.append(mean_val_accuracy)\n",
    "                \n",
    "                # Print information abuot training\n",
    "                print(\"Epoch {} - Global step {} - Training cost {} - Training accuracy {} - \"\n",
    "                      \"Validation cost {} - Validation accuracy {}\".format(epoch,\n",
    "                                                                           global_step_count,\n",
    "                                                                           train_cost,\n",
    "                                                                           train_accuracy[0],\n",
    "                                                                           mean_val_cost,\n",
    "                                                                           mean_val_accuracy))\n",
    "            \n",
    "            # Write a model checkpoint if necessary.\n",
    "            if global_step_count % save_period == 0:\n",
    "                save_path = saver.save(sess, \"trained_models/model.ckpt\")\n",
    "                print(\"Model saved in path: {}\".format(save_path))\n",
    "    \n",
    "    # Done training!\n",
    "    print(\"Finished {} epochs!\".format(epoch + 1))"
   ]
  },
  {
   "cell_type": "markdown",
   "metadata": {},
   "source": [
    "## Plot cost and accuracy during training\n",
    "\n",
    "Now we plot the how the cost and accuracy change during training, for both the training data and the validation data. This information is also ploted in Tensorboard, but we plot it here anyways.\n",
    "\n",
    "*Note: The training cost and accuracy is for one batch of data, but for the validation test, we plot the mean accuracy and cost over all the data batches.*"
   ]
  },
  {
   "cell_type": "code",
   "execution_count": 15,
   "metadata": {},
   "outputs": [
    {
     "data": {
      "image/png": "[encoded data removed]",
      "text/plain": [
       "<Figure size 432x288 with 1 Axes>"
      ]
     },
     "metadata": {},
     "output_type": "display_data"
    }
   ],
   "source": [
    "plt.plot(range(len(training_costs)), training_costs, color=\"red\")\n",
    "plt.title(\"Training cost\")\n",
    "plt.grid()"
   ]
  },
  {
   "cell_type": "code",
   "execution_count": 16,
   "metadata": {},
   "outputs": [
    {
     "data": {
      "image/png": "[encoded data removed]",
      "text/plain": [
       "<Figure size 432x288 with 1 Axes>"
      ]
     },
     "metadata": {},
     "output_type": "display_data"
    }
   ],
   "source": [
    "plt.plot(range(len(training_accuracies)), training_accuracies, color=\"red\")\n",
    "plt.title(\"Training accuracy\")\n",
    "plt.grid()"
   ]
  },
  {
   "cell_type": "code",
   "execution_count": 17,
   "metadata": {},
   "outputs": [
    {
     "data": {
      "image/png": "[encoded data removed]",
      "text/plain": [
       "<Figure size 432x288 with 1 Axes>"
      ]
     },
     "metadata": {},
     "output_type": "display_data"
    }
   ],
   "source": [
    "plt.plot(range(len(validation_costs)), validation_costs)\n",
    "plt.title(\"Validation cost\")\n",
    "plt.grid()"
   ]
  },
  {
   "cell_type": "code",
   "execution_count": 18,
   "metadata": {},
   "outputs": [
    {
     "data": {
      "image/png": "[encoded data removed]",
      "text/plain": [
       "<Figure size 432x288 with 1 Axes>"
      ]
     },
     "metadata": {},
     "output_type": "display_data"
    }
   ],
   "source": [
    "plt.plot(range(len(validation_accuracies)), validation_accuracies)\n",
    "plt.title(\"Validation accuracy\")\n",
    "plt.grid()"
   ]
  },
  {
   "cell_type": "markdown",
   "metadata": {},
   "source": [
    "## Test model\n",
    "\n",
    "We will use the test data we have loaded to test our model performance on unseen data."
   ]
  },
  {
   "cell_type": "code",
   "execution_count": 30,
   "metadata": {},
   "outputs": [
    {
     "name": "stdout",
     "output_type": "stream",
     "text": [
      "INFO:tensorflow:Restoring parameters from trained_models/model.ckpt\n",
      "Test accuracy = 0.9507389068603516\n"
     ]
    }
   ],
   "source": [
    "with tf.Session() as sess:\n",
    "    \n",
    "    saver.restore(sess, \"trained_models/model.ckpt\")\n",
    "    \n",
    "    sess.run(init_l_op)\n",
    "    \n",
    "    test_accuracy = sess.run(accuracy, feed_dict={x: test_data,\n",
    "                                                  y: test_labels})\n",
    "\n",
    "print(\"Test accuracy = {}\".format(test_accuracy[1]))"
   ]
  },
  {
   "cell_type": "markdown",
   "metadata": {},
   "source": [
    "## Tensorboard\n",
    "\n",
    "To use tensorboard open a console, go to the project folder (`\"mushrooms\"`) type:\n",
    "\n",
    "```bash\n",
    "tensorboard --logdir tensoboard_logs\\\n",
    "```"
   ]
  },
  {
   "cell_type": "markdown",
   "metadata": {},
   "source": [
    "### Tensoboard results\n",
    "\n",
    "#### Model graph\n",
    "\n",
    "The model graph shows the model architecture. The arrows represent the tensors flowing and their shape.\n",
    "\n",
    "![graph](notebook_images/tensorflow_graph.png)\n",
    "\n",
    "#### Output layer values\n",
    "\n",
    "We can se the output layer values progress during training in this histogram. The distribution in the back shows the values when we start the training. There the we can see that the model outputs a lot of values near 0.5, but the model quickly learn to output values near 0 and 1. This layer has a sigmoid activation so the output values are always in the range (0, 1).\n",
    "\n",
    "![output_layer_histograms](notebook_images/output_layer_histograms.png)\n",
    "\n",
    "#### Train set cost and accuracy\n",
    "\n",
    "Tensorboard shows us the scalar values we asked for, in this case the training set cost and accuracy.\n",
    "\n",
    "![training_scalars](notebook_images/tensorflow_training_scalars.png)\n",
    "\n",
    "#### Validation set cost and accuracy\n",
    "\n",
    "We also add scalars in Tensorboard for the validation set cost and accuracy.\n",
    "\n",
    "![validation_scalars](notebook_images/tensorflow_validation_scalars.png)"
   ]
  }
 ],
 "metadata": {
  "kernelspec": {
   "display_name": "Python 3",
   "language": "python",
   "name": "python3"
  },
  "language_info": {
   "codemirror_mode": {
    "name": "ipython",
    "version": 3
   },
   "file_extension": ".py",
   "mimetype": "text/x-python",
   "name": "python",
   "nbconvert_exporter": "python",
   "pygments_lexer": "ipython3",
   "version": "3.6.5"
  }
 },
 "nbformat": 4,
 "nbformat_minor": 2
}
